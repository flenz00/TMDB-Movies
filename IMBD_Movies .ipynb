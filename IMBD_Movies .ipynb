{
 "cells": [
  {
   "attachments": {},
   "cell_type": "markdown",
   "metadata": {},
   "source": [
    "## **Exploratory analysis and prediction on the \"TMDB 5000 Movie Dataset\" dataset**\n",
    "\n",
    "***Authors: Bava Flavio 4836427 , Ciarlo Francesco 4640121, Oldrini Edoardo 4055097***\n",
    "\n",
    "**Abstract**\n",
    "\n",
    "The following data analysis aims to study an approach for the production of a movie.<br><br>\n",
    "This file is divided like so:\n",
    "* Dataset checking and preparation\n",
    "* Initial exploration of the dataset\n",
    "* Raising hypotheses and subsequent verification\n",
    "* Proposal for a predictive regression based on previous observations"
   ]
  },
  {
   "attachments": {},
   "cell_type": "markdown",
   "metadata": {},
   "source": [
    "**Importing libraries and datasets**"
   ]
  },
  {
   "cell_type": "code",
   "execution_count": null,
   "metadata": {},
   "outputs": [],
   "source": [
    "#ciaoragazzi\n",
    "import matplotlib.pyplot as plt # this is used for the plot the graph \n",
    "import numpy as np # linear algebra\n",
    "import pandas as pd # data processing, CSV file I/O (e.g. pd.read_csv)\n",
    "import seaborn as sns # used for plot interactive graph.\n",
    "import numpy as np \n",
    "import plotly.offline as py\n",
    "import json\n",
    "from plotnine import ggplot,aes,facet_grid,labs,geom_col,theme_xkcd\n",
    "py.init_notebook_mode(connected=True) #TODO ????\n",
    "import plotly.graph_objs as go\n",
    "import warnings #TODO ????\n",
    "warnings.filterwarnings('ignore') #TODO ????\n",
    "from pylab import rcParams #TODO ????\n",
    "from ast import literal_eval"
   ]
  },
  {
   "cell_type": "code",
   "execution_count": null,
   "metadata": {},
   "outputs": [],
   "source": [
    "Movies = pd.read_csv('tmdb_5000_movies.csv')"
   ]
  },
  {
   "attachments": {},
   "cell_type": "markdown",
   "metadata": {},
   "source": [
    "### **Exploratory analysis of the dataset**"
   ]
  },
  {
   "attachments": {},
   "cell_type": "markdown",
   "metadata": {},
   "source": [
    "Moving all columns with Json data into list"
   ]
  },
  {
   "cell_type": "code",
   "execution_count": null,
   "metadata": {},
   "outputs": [],
   "source": [
    "#TODO: va aggiunto qualcosa per attorie  registi o si possono usare queste?\n",
    "def get_name(x):\n",
    "    if isinstance(x, list):\n",
    "        names = [i['name'] for i in x]\n",
    "        return names\n",
    "    return []\n",
    "\n",
    "def get_ISO(x):\n",
    "    if isinstance(x, list):\n",
    "        isos = [i['iso_3166_1'] for i in x]\n",
    "        return isos\n",
    "    return []"
   ]
  },
  {
   "attachments": {},
   "cell_type": "markdown",
   "metadata": {},
   "source": [
    "Funzioni per passare da json a liste dei dati utili"
   ]
  },
  {
   "cell_type": "code",
   "execution_count": null,
   "metadata": {},
   "outputs": [],
   "source": [
    "feat_to_manage = ['genres','keywords','production_countries','production_companies'] #aggiungere attori e registi"
   ]
  },
  {
   "cell_type": "code",
   "execution_count": null,
   "metadata": {},
   "outputs": [],
   "source": [
    "for f in feat_to_manage:\n",
    "    Movies[f] = Movies[f].apply(literal_eval)"
   ]
  },
  {
   "cell_type": "code",
   "execution_count": null,
   "metadata": {},
   "outputs": [],
   "source": [
    "#Turn genres into list\n",
    "Movies['genres'] = Movies['genres'].apply(get_name)\n",
    "#Turn prod_countries into list\n",
    "Movies['production_countries'] = Movies['production_countries'].apply(get_ISO)\n",
    "#Turn prod_companies into list\n",
    "Movies['production_companies'] = Movies['production_companies'].apply(get_name)\n",
    "#Turn keywords into list\n",
    "Movies['keywords'] = Movies['keywords'].apply(get_name)\n",
    "\n",
    "Movies.head(1)\n",
    "\n",
    "print(\"Generi hanno tipo \", type(Movies['genres'][0]))\n",
    "print(\"Paesi produzione hanno tipo \", type(Movies['production_countries'][0]))\n"
   ]
  },
  {
   "attachments": {},
   "cell_type": "markdown",
   "metadata": {},
   "source": [
    "Check dataset dimension and an overview of the table itself"
   ]
  },
  {
   "cell_type": "code",
   "execution_count": null,
   "metadata": {},
   "outputs": [],
   "source": []
  },
  {
   "attachments": {},
   "cell_type": "markdown",
   "metadata": {},
   "source": [
    "Droppiamo colonne inutili"
   ]
  },
  {
   "cell_type": "code",
   "execution_count": null,
   "metadata": {},
   "outputs": [],
   "source": [
    "Movies.drop(['homepage','spoken_languages','original_title'],inplace=True,axis='columns')\n",
    "Movies.shape"
   ]
  },
  {
   "attachments": {},
   "cell_type": "markdown",
   "metadata": {},
   "source": [
    "1. Controlliamo chei tipi siano giusti"
   ]
  },
  {
   "cell_type": "code",
   "execution_count": null,
   "metadata": {},
   "outputs": [],
   "source": [
    "Movies.info()"
   ]
  },
  {
   "attachments": {},
   "cell_type": "markdown",
   "metadata": {},
   "source": [
    "I tipi sono coerenti"
   ]
  },
  {
   "attachments": {},
   "cell_type": "markdown",
   "metadata": {},
   "source": [
    "2. Controlliamo se ci sono dati mancanti"
   ]
  },
  {
   "cell_type": "code",
   "execution_count": null,
   "metadata": {},
   "outputs": [],
   "source": [
    "print(Movies.isnull().sum())"
   ]
  },
  {
   "attachments": {},
   "cell_type": "markdown",
   "metadata": {},
   "source": [
    "ci sono alcuni valori nulli ma in colonne che potrebbero non essere significative"
   ]
  },
  {
   "attachments": {},
   "cell_type": "markdown",
   "metadata": {},
   "source": [
    "3. Controlliamo che i budget abbiano valori sensati"
   ]
  },
  {
   "cell_type": "code",
   "execution_count": null,
   "metadata": {},
   "outputs": [],
   "source": [
    "#TODO possibile predizione buget come studio\n",
    "print(Movies['budget'].describe())"
   ]
  },
  {
   "attachments": {},
   "cell_type": "markdown",
   "metadata": {},
   "source": [
    "Il valore minimo è 0, abbiamo quindi il dubbbio che ci siano budget con valori insiensati, per conoscenza del dominio applciativo decidiamo di porre il limite inferiore di 10k per il budget, verifichiamo quanti film sono sotto a questo valore."
   ]
  },
  {
   "attachments": {},
   "cell_type": "markdown",
   "metadata": {},
   "source": [
    "Ci sono 1400 film con un valore di budget che non sembra avere senso, per evitare di eliminare tutti i dati relativi a questo film decidiamo di \"segnarli\" ponendo il budget ad un valore simbolico di -1 questi dati in modo da non prenderli in considerazione nelle statistiche ma non perdere altri dati interesanti."
   ]
  },
  {
   "cell_type": "code",
   "execution_count": null,
   "metadata": {},
   "outputs": [],
   "source": [
    "#Movies[Movies['budget'] <= 10000]['budget'] = np.nan\n",
    "for row in Movies.index:\n",
    "    if Movies.loc[row,'budget'] < 10000 and (Movies.loc[row, 'status']=='Released'):\n",
    "        Movies.loc[row,'budget'] = np.nan\n",
    "print(Movies[Movies['budget'] == np.nan].shape)"
   ]
  },
  {
   "cell_type": "code",
   "execution_count": null,
   "metadata": {},
   "outputs": [],
   "source": [
    "print(Movies[Movies['budget']<10000]['id'].count())\n",
    "#Movies.tail()"
   ]
  },
  {
   "attachments": {},
   "cell_type": "markdown",
   "metadata": {},
   "source": [
    "4. Controlliamo che i revenue abbiano valori sensati"
   ]
  },
  {
   "cell_type": "code",
   "execution_count": null,
   "metadata": {},
   "outputs": [],
   "source": [
    "#TODO possibile predizione buget come studio\n",
    "#Movies.tail()\n",
    "print(Movies['revenue'].describe())"
   ]
  },
  {
   "attachments": {},
   "cell_type": "markdown",
   "metadata": {},
   "source": [
    "molti film hanno revenue nullo, che siano film ancora non usciti?"
   ]
  },
  {
   "cell_type": "code",
   "execution_count": null,
   "metadata": {},
   "outputs": [],
   "source": [
    "print('Movies with 0$ revenues: ',Movies[Movies['revenue'] == 0].shape[0])\n",
    "print('Movies not yet released', Movies[(Movies['revenue'] == 0) & (Movies['status']!= 'Released')].shape[0])"
   ]
  },
  {
   "attachments": {},
   "cell_type": "markdown",
   "metadata": {},
   "source": [
    "Su 1427 film che hanno revenue = 0 solo 7 sono ancora in fase di produzione, quindi 1427 film hanno un valore di revenue errato che procediamo a segnare, come visto precedentemente, con un valore simbolico di -1"
   ]
  },
  {
   "cell_type": "code",
   "execution_count": null,
   "metadata": {},
   "outputs": [],
   "source": [
    "for row in Movies.index:\n",
    "    if (Movies.loc[row, 'revenue'] == 0) and (Movies.loc[row, 'status']=='Released'):\n",
    "        Movies.loc[row, 'revenue'] = -1\n",
    "\n",
    "print('Movies without revenue infos: ',Movies[Movies['revenue'] == -1].shape[0])\n"
   ]
  },
  {
   "attachments": {},
   "cell_type": "markdown",
   "metadata": {},
   "source": [
    "3. Ulteriori aggiustamenti"
   ]
  },
  {
   "attachments": {},
   "cell_type": "markdown",
   "metadata": {},
   "source": [
    "Aggiungiamo due colonne legate al budget, una misura i ricavi sulla percentuale rispetto al budget, l'altra divide i film in 3 categorie, low budget, normali e blockbuster\n"
   ]
  },
  {
   "attachments": {},
   "cell_type": "markdown",
   "metadata": {},
   "source": [
    "1) Ricavi rispetto al budget\n"
   ]
  },
  {
   "cell_type": "code",
   "execution_count": null,
   "metadata": {},
   "outputs": [],
   "source": [
    "def calculate_profit_perc(x):\n",
    "    if (x.revenue>0) and (x.budget>0):\n",
    "        return ((x.revenue-x.budget)/x.budget)*100\n",
    "    #senza else mette i nan, altrimenti possiamo metterlo e ritornare -1"
   ]
  },
  {
   "cell_type": "code",
   "execution_count": null,
   "metadata": {},
   "outputs": [],
   "source": [
    "#Movies = Movies.assign(profit_perc = lambda x: (((x.revenue-x.budget)/x.budget)*100) if ((x.revenue>0) and (x.budget>0)) else -1)\n",
    "#print(Movies[Movies['budget'].isnull()])\n",
    "Movies = Movies.assign(profit_perc = lambda x: x.budget)\n",
    "for row in Movies.index:\n",
    "    Movies.loc[row,'profit_perc'] =  calculate_profit_perc(Movies.loc[row])\n",
    "\n"
   ]
  },
  {
   "attachments": {},
   "cell_type": "markdown",
   "metadata": {},
   "source": [
    "2. Classificazioni film in low, med, high budget"
   ]
  },
  {
   "attachments": {},
   "cell_type": "markdown",
   "metadata": {},
   "source": [
    "usiamo describe per capire come impostare gli scaglioni"
   ]
  },
  {
   "cell_type": "code",
   "execution_count": null,
   "metadata": {},
   "outputs": [],
   "source": [
    "Movies[Movies['budget']>0]['budget'].describe()"
   ]
  },
  {
   "attachments": {},
   "cell_type": "markdown",
   "metadata": {},
   "source": [
    "Low budget = 25% con budget più bassi<br>\n",
    "High budget = 25% con budget più alti<br>\n",
    "Medio = il restante 50%"
   ]
  },
  {
   "cell_type": "code",
   "execution_count": null,
   "metadata": {},
   "outputs": [],
   "source": [
    "def budget_range(x):\n",
    "    if x <= 0: #x==NaN\n",
    "        return \"no budget info\"\n",
    "    if x < 7.900000e+05:\n",
    "        return \"low\"\n",
    "    elif x >= 7.900000e+05 and x < 4.000000e+07:\n",
    "        return \"medium\"\n",
    "    else:\n",
    "        return \"high\""
   ]
  },
  {
   "attachments": {},
   "cell_type": "markdown",
   "metadata": {},
   "source": [
    "aggiungiamo una colonna che contiene l'etichetta relativa al budget"
   ]
  },
  {
   "cell_type": "code",
   "execution_count": null,
   "metadata": {},
   "outputs": [],
   "source": [
    "Movies = Movies.assign(budget_class = lambda x: str(x.budget))\n",
    "for row in Movies.index:\n",
    "    Movies.loc[row,'budget_class'] =  budget_range(Movies.loc[row,'budget'])\n"
   ]
  },
  {
   "cell_type": "code",
   "execution_count": null,
   "metadata": {},
   "outputs": [],
   "source": [
    "#TODO: perchè prendiamo solo i budget>10^7 e non tutti i non negativi?\n",
    "#sns.kdeplot(data=Movies[Movies['budget'] >0], x='budget', shade = True)\n",
    "sns.kdeplot(data=Movies[Movies['budget'] >= 4.000000e+07], x='budget', shade = True)\n",
    "plt.legend(['Budget'])\n",
    "plt.show()\n"
   ]
  },
  {
   "cell_type": "code",
   "execution_count": null,
   "metadata": {},
   "outputs": [],
   "source": [
    "#TODO: la possiamo cancellare??\n",
    "#Movies['budget'].describe()\n",
    "#Movies[Movies['budget'] <= 7.900000e+05].shape\n",
    "#Movies[(Movies['budget'] <= 1.500000e+07) & Movies['budget']<= 4.000000e+07].shape\n",
    "#Movies[(Movies['budget'] >=   1.500000e+07) & (Movies['budget'] <= 4.000000e+07)].shape\n",
    "#print(11 in range(0,10))\n",
    "#Movies([Movies['budget'] >= 1.500000e+07] and (Movies['budget'] <= 4.000000e+07)).shape\n"
   ]
  },
  {
   "attachments": {},
   "cell_type": "markdown",
   "metadata": {},
   "source": [
    "Riteniamo importante che la media dei voti sia pesata con il numero di voti che la generano, per fare questo usiamo una formula consigliata dal celebre sito IMBD e togliamo le due colonne average e count per unirle in una che le metta insieme"
   ]
  },
  {
   "cell_type": "code",
   "execution_count": null,
   "metadata": {},
   "outputs": [],
   "source": [
    "#TODO: potremmo anche fare questo lavoro sul dataset di partenza aggiungendo una colonna, metà avranno nan\n",
    "C= Movies['vote_average'].mean()\n",
    "C\n",
    "m= Movies['vote_count'].quantile(0.5)\n",
    "\n",
    "for i in Movies.index:\n",
    "    if Movies.loc[i,'vote_count'] <= m:\n",
    "        Movies.loc[i,'vote_count'] = np.nan\n",
    "    else:\n",
    "        pass\n",
    "\n",
    "    \n",
    "q_movies = Movies[['id','vote_count','vote_average']]\n"
   ]
  },
  {
   "cell_type": "code",
   "execution_count": null,
   "metadata": {},
   "outputs": [],
   "source": [
    "def weighted_rating(x, m=m, C=C):\n",
    "    v = x['vote_count']\n",
    "    R = x['vote_average']\n",
    "    # Calculation based on the IMDB formula\n",
    "    return (v/(v+m) * R) + (m/(m+v) * C)"
   ]
  },
  {
   "cell_type": "code",
   "execution_count": null,
   "metadata": {},
   "outputs": [],
   "source": [
    "# Define a new feature 'score' and calculate its value with `weighted_rating()`\n",
    "q_movies['score'] = q_movies.apply(weighted_rating, axis=1)\n",
    "q_movies.drop(['vote_average','vote_count'],inplace=True,axis='columns')\n",
    "#Merge dei dataframe,ora Movies ha anche la colonna Score\",\n",
    "Movies = pd.merge(Movies,q_movies,on='id',how='inner')\n",
    "Movies.shape\n",
    "   "
   ]
  },
  {
   "attachments": {},
   "cell_type": "markdown",
   "metadata": {},
   "source": [
    "Abbiamo eliminato metà dei film, quelli con troppi pochi voti per poter essere presi in considerazione per quanto riguarda il voto ricevuto."
   ]
  },
  {
   "attachments": {},
   "cell_type": "markdown",
   "metadata": {},
   "source": [
    "Breve sguardo agli attributi quantitativi"
   ]
  },
  {
   "cell_type": "code",
   "execution_count": null,
   "metadata": {},
   "outputs": [],
   "source": [
    "Movies.describe()"
   ]
  },
  {
   "attachments": {},
   "cell_type": "markdown",
   "metadata": {},
   "source": [
    "### **Cominciamo a fare qualche ipotesi**"
   ]
  },
  {
   "attachments": {},
   "cell_type": "markdown",
   "metadata": {},
   "source": [
    "**1. Dati qualitativi**"
   ]
  },
  {
   "attachments": {},
   "cell_type": "markdown",
   "metadata": {},
   "source": [
    "usiamo una funziona di libreria per portare genri, keyword, paesi di produzione e compagnie di produzione in un formato più semplice da gestire"
   ]
  },
  {
   "attachments": {},
   "cell_type": "markdown",
   "metadata": {},
   "source": [
    "******************************************************************************************************************************************\n",
    "******************************************************************************************************************************************"
   ]
  },
  {
   "attachments": {},
   "cell_type": "markdown",
   "metadata": {},
   "source": [
    "## Dati qualitativi ##"
   ]
  },
  {
   "attachments": {},
   "cell_type": "markdown",
   "metadata": {},
   "source": [
    "Proviamo a definire delle funzioni per verificare la distribuzione di voti e soldoni fatti in base ai dati qualitativi"
   ]
  },
  {
   "cell_type": "code",
   "execution_count": null,
   "metadata": {},
   "outputs": [],
   "source": [
    "#TODO: perchè è commentata? Non serve più?\n",
    "#def get_name(x):\n",
    " #   if isinstance(x, list):\n",
    "  #      names = [i['name'] for i in x]\n",
    "   #     return names\n",
    "    #return []"
   ]
  },
  {
   "attachments": {},
   "cell_type": "markdown",
   "metadata": {},
   "source": [
    "### Primo qualitativo: generi ###"
   ]
  },
  {
   "attachments": {},
   "cell_type": "markdown",
   "metadata": {},
   "source": [
    "1. definiamo funzione che dato un genere calcola la media dei profitti dei film che lo contengono"
   ]
  },
  {
   "cell_type": "code",
   "execution_count": null,
   "metadata": {},
   "outputs": [],
   "source": [
    "def genre_average_profits(genre):\n",
    "    sum = 0\n",
    "    count = 0\n",
    "    for row in Movies.index:\n",
    "        if (genre in Movies.loc[row, 'genres']) and (Movies.loc[row,'profit_perc'] > 0):\n",
    "            sum += Movies.loc[row, 'profit_perc']\n",
    "            count+=1\n",
    "    return count\n",
    "\n",
    "#Movies['profit_perc'] = Movies.apply(lambda row: genre_average_profits(row['genres']), axis=1)"
   ]
  },
  {
   "attachments": {},
   "cell_type": "markdown",
   "metadata": {},
   "source": [
    "2. estraiamo dal dataset la lista dei generi presenti"
   ]
  },
  {
   "cell_type": "code",
   "execution_count": null,
   "metadata": {},
   "outputs": [],
   "source": [
    "genres=[]\n",
    "for row in Movies.index:\n",
    "    _gen = Movies.loc[row,'genres']\n",
    "    for g in _gen:\n",
    "        if g not in genres:\n",
    "            genres.append(g)\n",
    "\n",
    "print(\"I generi presenti nel dataframe sono:\")\n",
    "for el in genres:\n",
    "    print('\\t',el)"
   ]
  },
  {
   "attachments": {},
   "cell_type": "markdown",
   "metadata": {},
   "source": [
    "3. calcoliamo e salviamo il profitto medio di ogni genere"
   ]
  },
  {
   "cell_type": "code",
   "execution_count": null,
   "metadata": {},
   "outputs": [],
   "source": [
    "profits=[]\n",
    "for g in genres:\n",
    "    profits.append(genre_average_profits(g))\n",
    "            \n",
    "print(\"Profitto associato ad ogni genere:\")\n",
    "for i in range(0,len(genres)):\n",
    "    print('\\t',genres[i], \" has a mean profit of \", profits[i])"
   ]
  },
  {
   "attachments": {},
   "cell_type": "markdown",
   "metadata": {},
   "source": [
    "Due generi hanno una media pari a 0, appaiano quindi solo nei film per cui non abbiamo info su budget e/o revenue, li eliminiamo quindi dalla lista dei generi"
   ]
  },
  {
   "cell_type": "code",
   "execution_count": null,
   "metadata": {},
   "outputs": [],
   "source": [
    "genres.remove(genres[19])\n",
    "genres.remove(genres[18])\n",
    "profits.remove(profits[19])\n",
    "profits.remove(profits[18])"
   ]
  },
  {
   "attachments": {},
   "cell_type": "markdown",
   "metadata": {},
   "source": [
    "3. Di seguito possiamo vedere come sono i profitti in base ai diversi generi dei film"
   ]
  },
  {
   "cell_type": "code",
   "execution_count": null,
   "metadata": {},
   "outputs": [],
   "source": [
    "#TODO: riusciamo a farli in ordine decrescente sul grafico?\n",
    "fig, ax = plt.subplots()\n",
    "ax.bar(genres,profits)\n",
    "fig.set_figwidth(27)\n",
    "fig.set_figheight(13)\n",
    "plt.xticks(rotation=45,fontsize=15)\n",
    "plt.yticks(fontsize=15)\n",
    "plt.xlabel(\"Genres\", fontsize=20)\n",
    "plt.ylabel(\"Profits\", fontsize=20)\n",
    "plt.show()"
   ]
  },
  {
   "attachments": {},
   "cell_type": "markdown",
   "metadata": {},
   "source": [
    "Per ottimizzare le funzioni di libreria sostituiamo ai valori dei profitti associati ai film con dati insufficienti a calcolarli il valore nan"
   ]
  },
  {
   "cell_type": "code",
   "execution_count": null,
   "metadata": {},
   "outputs": [],
   "source": [
    "#TODO: si può mica fare da subito?\n",
    "for row in Movies.index:\n",
    "    if (Movies.loc[row, 'profit_perc'] <= 0) and (Movies.loc[row, 'status']=='Released'):\n",
    "        Movies.loc[row, 'profit_perc'] = np.nan"
   ]
  },
  {
   "attachments": {},
   "cell_type": "markdown",
   "metadata": {},
   "source": [
    "### Secondo qualitativo: keywords ###"
   ]
  },
  {
   "attachments": {},
   "cell_type": "markdown",
   "metadata": {},
   "source": [
    "1. importiamo i profitti e le keywords associate solo a film su cui non abbiamo dati relativi ai profitti, precedentemente calcolate con una funzione pesante"
   ]
  },
  {
   "cell_type": "code",
   "execution_count": null,
   "metadata": {},
   "outputs": [],
   "source": [
    "#key_profits = pd.read_csv('key_profits.csv')['0']\n",
    "#bad_key_df = pd.read_csv('bad_key.csv')\n",
    "#bad_key=bad_key_df['0']"
   ]
  },
  {
   "attachments": {},
   "cell_type": "markdown",
   "metadata": {},
   "source": [
    "2. estraiamo dal dataset la lista delle presenti"
   ]
  },
  {
   "cell_type": "code",
   "execution_count": null,
   "metadata": {},
   "outputs": [],
   "source": [
    "keywords=[]\n",
    "for row in Movies.index:\n",
    "    _key = Movies.loc[row,'keywords']\n",
    "    for k in _key:\n",
    "        if g not in keywords:\n",
    "            keywords.append(k)\n",
    "print(len(keywords))"
   ]
  },
  {
   "attachments": {},
   "cell_type": "markdown",
   "metadata": {},
   "source": [
    "3. definiamo una funzione che data una keyword ne calcola la media dei profitti associati"
   ]
  },
  {
   "cell_type": "code",
   "execution_count": null,
   "metadata": {},
   "outputs": [],
   "source": [
    "def keyword_average_profit(keywords):\n",
    "    sum = 0\n",
    "    count = 0\n",
    "    for row in Movies.index:\n",
    "        if (keywords in Movies.loc[row, 'keywords'] and Movies.loc[row, 'profit_perc'] >= 0):\n",
    "            sum += Movies.loc[row, 'profit_perc']\n",
    "            count+=1\n",
    "    if count != 0:\n",
    "        return sum/count\n",
    "    else:\n",
    "        return -1"
   ]
  },
  {
   "attachments": {},
   "cell_type": "markdown",
   "metadata": {},
   "source": [
    "4. ora per ogni keyword calcoliamo il profitto e salviamo quali keywords non hanno dati su budget o revenue"
   ]
  },
  {
   "cell_type": "code",
   "execution_count": null,
   "metadata": {},
   "outputs": [],
   "source": [
    "#funzione pesantissima con hash\n",
    "set_key = set(keywords)\n",
    "key_profits={} #declared as hashmap\n",
    "bad_keys=[]\n",
    "for k in set_key:\n",
    "    q = keyword_average_profit(k)\n",
    "    if q != -1:\n",
    "        key_profits[str(k)]=q\n",
    "    else:\n",
    "        bad_keys.append(k)"
   ]
  },
  {
   "attachments": {},
   "cell_type": "markdown",
   "metadata": {},
   "source": [
    "5. A questo punto castiamo l'array di tutte le keywords e di quelle da scartare in set, così da eleminare ogni duplicato e poter effettuare una differenza:"
   ]
  },
  {
   "cell_type": "code",
   "execution_count": null,
   "metadata": {},
   "outputs": [],
   "source": [
    "bad_key_set = set(bad_keys)\n",
    "set_key_cleaned = set_key - bad_key_set\n",
    "\n",
    "print(\"Numero di keywords:\\t\",len(set_key))\n",
    "print(\"Numero di keywords da scartare\\t\",len(bad_key_set))\n",
    "print(\"Numero di keywords da analizzare:\\t\",len(set_key_cleaned))\n",
    "print(\"Numero di profitti per le keywords calcolati\\t\",len(key_profits))\n",
    "\n",
    "#pd.DataFrame(key_profits).to_csv(\"key_profits.csv\")"
   ]
  },
  {
   "cell_type": "code",
   "execution_count": null,
   "metadata": {},
   "outputs": [],
   "source": [
    "sorted_key_hash = sorted(key_profits.items(), key=lambda x: x[1])\n",
    "print(sorted_key_hash)"
   ]
  },
  {
   "attachments": {},
   "cell_type": "markdown",
   "metadata": {},
   "source": [
    "6. visto il grande numero di keywords presenti nel dataset ci concentriamo su quelle più presenti"
   ]
  },
  {
   "cell_type": "code",
   "execution_count": null,
   "metadata": {},
   "outputs": [],
   "source": [
    "from collections import Counter #per prendere le più presenti\n",
    "\n",
    "best = 100 #numero di keywords da studiare \n",
    "_most_common_keys = Counter(keywords).most_common(best)\n",
    "most_common_keys = []\n",
    "for i in range(0,best-1):\n",
    "    #print(most_common_keys[0])\n",
    "    most_common_keys.append(_most_common_keys[i][0])\n",
    "print(most_common_keys)\n"
   ]
  },
  {
   "cell_type": "code",
   "execution_count": null,
   "metadata": {},
   "outputs": [],
   "source": [
    "#associamo alle key più frequenti selezionate sopra il rispettivo profitto\n",
    "most_common_keys_prof = []\n",
    "for el in most_common_keys:\n",
    "    most_common_keys_prof.append(key_profits[str(el)])"
   ]
  },
  {
   "attachments": {},
   "cell_type": "markdown",
   "metadata": {},
   "source": [
    "7. stampiamo ora un istogramma che associa alle keywords più comuni il rispettivo profitto"
   ]
  },
  {
   "cell_type": "code",
   "execution_count": null,
   "metadata": {},
   "outputs": [],
   "source": [
    "fig, ax = plt.subplots()\n",
    "ax.bar(most_common_keys,most_common_keys_prof)\n",
    "fig.set_figwidth(27)\n",
    "fig.set_figheight(13)\n",
    "plt.xticks(rotation=90,fontsize=15)\n",
    "plt.yticks(fontsize=15)\n",
    "plt.xlabel(\"key\", fontsize=20)\n",
    "plt.ylabel(\"Profits\", fontsize=20)\n",
    "plt.show()"
   ]
  },
  {
   "attachments": {},
   "cell_type": "markdown",
   "metadata": {},
   "source": [
    "visto che il grafico così è poco leggibile rappresentiamo i risutlati in un altro modo"
   ]
  },
  {
   "cell_type": "code",
   "execution_count": null,
   "metadata": {},
   "outputs": [],
   "source": [
    "from wordcloud import WordCloud, STOPWORDS\n",
    "import nltk\n",
    "from nltk.corpus import stopwords\n",
    "nltk.download(\"stopwords\")\n",
    "from nltk.tokenize import word_tokenize\n",
    "\n",
    "\n",
    "plt.subplots(figsize=(12,12))\n",
    "stop_words=set(stopwords.words('english'))\n",
    "stop_words.update(',',';','!','?','.','(',')','$','#','+',':','...',' ','')\n",
    "\n",
    "Movies['keywords'].dropna(inplace=True)\n",
    "Movies['keywords'] = Movies['keywords'].astype(str)\n",
    "words=Movies['keywords'].apply(nltk.word_tokenize)\n",
    "word=[]\n",
    "for i in words:\n",
    "    word.extend(i)\n",
    "word=pd.Series(word)\n",
    "word=([i for i in word.str.lower() if i not in stop_words])\n",
    "wc = WordCloud(background_color=\"black\", max_words=4000,stopwords=STOPWORDS, max_font_size= 60,width=1000,height=1000)\n",
    "wc.generate(\" \".join(word))\n",
    "plt.imshow(wc)\n",
    "plt.axis('off')\n",
    "fig=plt.gcf()\n",
    "fig.set_size_inches(10,10)\n",
    "plt.show()"
   ]
  },
  {
   "attachments": {},
   "cell_type": "markdown",
   "metadata": {},
   "source": [
    "si può fare altro, ma ora ci spostiamo su altro..."
   ]
  },
  {
   "attachments": {},
   "cell_type": "markdown",
   "metadata": {},
   "source": [
    "### qualitiativo 3: paesi di produzione ###"
   ]
  },
  {
   "attachments": {},
   "cell_type": "markdown",
   "metadata": {},
   "source": [
    "1. Troviamo e salviamo tutti i paesi di produzione del dataframe"
   ]
  },
  {
   "cell_type": "code",
   "execution_count": null,
   "metadata": {},
   "outputs": [],
   "source": [
    "countries=[]\n",
    "for row in Movies.index:\n",
    "    _countries = Movies.loc[row,'production_countries']\n",
    "    for k in _countries:\n",
    "        if k not in countries:\n",
    "            countries.append(k)\n",
    "\n",
    "print(len(countries))\n",
    "print(countries)"
   ]
  },
  {
   "attachments": {},
   "cell_type": "markdown",
   "metadata": {},
   "source": [
    "2. definiamo una funzione che dato un pease di produzine calcoli il profitto dei film girati li"
   ]
  },
  {
   "cell_type": "code",
   "execution_count": null,
   "metadata": {},
   "outputs": [],
   "source": [
    "def country_average_profit(country):\n",
    "    sum = 0\n",
    "    count = 0\n",
    "    for row in Movies.index:\n",
    "        if (country in Movies.loc[row, 'production_countries'] and Movies.loc[row, 'profit_perc'] >= 0):\n",
    "            sum += Movies.loc[row, 'profit_perc']\n",
    "            count+=1\n",
    "    if count != 0:\n",
    "        return sum/count\n",
    "    else:\n",
    "        return -1"
   ]
  },
  {
   "attachments": {},
   "cell_type": "markdown",
   "metadata": {},
   "source": [
    "3. creiamo una hashmap in cui associamo ad ogni paese di produzione il relativo profitto, mettendo in bad_countries i paesi i cui film non hanno info sufficienti per il calcolo dei profitti"
   ]
  },
  {
   "cell_type": "code",
   "execution_count": null,
   "metadata": {},
   "outputs": [],
   "source": [
    "country_profits={} #declared as hashmap\n",
    "bad_countries=[] #TODO: si può fare subito set o serve array?\n",
    "for c in countries:\n",
    "    q = country_average_profit(c)\n",
    "    if q != -1:\n",
    "        country_profits[str(c)]=q\n",
    "    else:\n",
    "        bad_countries.append(c)"
   ]
  },
  {
   "attachments": {},
   "cell_type": "markdown",
   "metadata": {},
   "source": [
    "4. rimuoviamo i paesi di produzione dei cui film non abbiamo info"
   ]
  },
  {
   "cell_type": "code",
   "execution_count": null,
   "metadata": {},
   "outputs": [],
   "source": [
    "set_countries = set(countries)\n",
    "bad_countries_set = set(bad_countries)\n",
    "set_countries_cleaned = set_countries - bad_countries_set\n",
    "\n",
    "\n",
    "print(\"Numero di paesi di produzione totali:\\t\\t\",len(set_countries))\n",
    "print(\"Numero di paesi di produzione da scartare:\\t\",len(bad_countries_set))\n",
    "print(\"Numero di paesi di produzione da analizzare:\\t\",len(set_countries_cleaned))\n",
    "print(\"Numero di profit per paese da analizzare:\\t\",len(country_profits))\n"
   ]
  },
  {
   "attachments": {},
   "cell_type": "markdown",
   "metadata": {},
   "source": [
    "5. mettiamo in un array, nel giusto ordine, i profitti da plottare"
   ]
  },
  {
   "cell_type": "code",
   "execution_count": null,
   "metadata": {},
   "outputs": [],
   "source": [
    "country_profits_plot = []\n",
    "for el in set_countries_cleaned:\n",
    "    country_profits_plot.append(country_profits[str(el)])"
   ]
  },
  {
   "cell_type": "code",
   "execution_count": null,
   "metadata": {},
   "outputs": [],
   "source": [
    "fig, ax = plt.subplots()\n",
    "ax.bar(list(set_countries_cleaned),list(country_profits_plot))\n",
    "fig.set_figwidth(20)\n",
    "fig.set_figheight(13)\n",
    "plt.xticks(rotation=90,fontsize=15)\n",
    "plt.yticks(fontsize=15)\n",
    "plt.xlabel(\"key\", fontsize=20)\n",
    "plt.ylabel(\"Profits\", fontsize=20)\n",
    "plt.show()"
   ]
  },
  {
   "attachments": {},
   "cell_type": "markdown",
   "metadata": {},
   "source": [
    "6. Notiamo un valore molto alto per la Jamaica, ci stupisce. Controlliamo quanti e quali film ci sono"
   ]
  },
  {
   "cell_type": "code",
   "execution_count": null,
   "metadata": {},
   "outputs": [],
   "source": [
    "for row in Movies.index:\n",
    "    if 'JM' in Movies.loc[row,'production_countries']:\n",
    "        print(Movies.loc[row,'profit_perc'])"
   ]
  },
  {
   "attachments": {},
   "cell_type": "markdown",
   "metadata": {},
   "source": [
    "solo due, dobbiamo fare lo stesso lavoro fatto per le keywords sulla frequenza"
   ]
  },
  {
   "cell_type": "code",
   "execution_count": null,
   "metadata": {},
   "outputs": [],
   "source": [
    "#TODO: fare country con frequenza"
   ]
  },
  {
   "attachments": {},
   "cell_type": "markdown",
   "metadata": {},
   "source": [
    "******************************************************************************************************************************************\n",
    "******************************************************************************************************************************************"
   ]
  },
  {
   "attachments": {},
   "cell_type": "markdown",
   "metadata": {},
   "source": [
    "## Logaritmi, decidere dove va fatto!!##"
   ]
  },
  {
   "attachments": {},
   "cell_type": "markdown",
   "metadata": {},
   "source": [
    "purtroppo la distrubuzione dei profitti è pessima e potrebbe portare a delle rpoblematiche future, per migliorarla possiamo applicare la funzione logaritmica"
   ]
  },
  {
   "cell_type": "code",
   "execution_count": null,
   "metadata": {},
   "outputs": [],
   "source": [
    "#TODO: separare in due fasi, prima stampiamo la distribuzione, poi diciamo che fa cagare e dopo applichiamo log e diciamo che va meglio\n",
    "Movies['log_perc'] = np.log(Movies['profit_perc'])\n",
    "fig, ax = plt.subplots(figsize = (16, 6))\n",
    "plt.subplot(1,2,1)\n",
    "plt.hist(Movies['profit_perc'])\n",
    "plt.title('Distribution of Profits%')\n",
    "plt.subplot(1,2,2)\n",
    "plt.hist(Movies['log_perc'])\n",
    "plt.title('Log Distribution of Profits%')\n",
    "plt.show()\n",
    "\n"
   ]
  },
  {
   "attachments": {},
   "cell_type": "markdown",
   "metadata": {},
   "source": [
    "Il grafico sembra dire che il log ha funzionato, controliamo la skewness"
   ]
  },
  {
   "cell_type": "code",
   "execution_count": null,
   "metadata": {},
   "outputs": [],
   "source": [
    "print('Skewness : %f '% Movies['profit_perc'].skew())\n",
    "print('Applied Log Skewness : %f '% Movies['log_perc'].skew())\n"
   ]
  },
  {
   "attachments": {},
   "cell_type": "markdown",
   "metadata": {},
   "source": [
    "i risutlati confermano quanto suggerito dal grafico, analizziamo ancora come la distribuzione sia cambiata e quanto effettivamente sia migliorata"
   ]
  },
  {
   "cell_type": "code",
   "execution_count": null,
   "metadata": {},
   "outputs": [],
   "source": [
    "sns.distplot(Movies['profit_perc'])\n",
    "plt.figure(figsize=(16,6))\n",
    "plt.legend(['Profit'])\n",
    "plt.title('Profit Perc')\n",
    "sns.distplot(Movies['log_perc'])\n",
    "plt.legend(['Profit'])\n",
    "plt.title('Log Profit Perc')\n",
    "plt.show()"
   ]
  },
  {
   "attachments": {},
   "cell_type": "markdown",
   "metadata": {},
   "source": [
    "miglioratissima....ossia studiamo bene cosa vogliono dire sti grafici"
   ]
  },
  {
   "attachments": {},
   "cell_type": "markdown",
   "metadata": {},
   "source": [
    "******************************************************************************************************************************************\n",
    "******************************************************************************************************************************************"
   ]
  },
  {
   "attachments": {},
   "cell_type": "markdown",
   "metadata": {},
   "source": [
    "## Dataset unito a crew ##"
   ]
  },
  {
   "attachments": {},
   "cell_type": "markdown",
   "metadata": {},
   "source": [
    "**Iniziamo a lavorare con il dataset contenente il cast e il direttore**"
   ]
  },
  {
   "cell_type": "code",
   "execution_count": null,
   "metadata": {},
   "outputs": [],
   "source": [
    "Movies.columns"
   ]
  },
  {
   "cell_type": "code",
   "execution_count": null,
   "metadata": {},
   "outputs": [],
   "source": [
    "cast = pd.read_csv(\"tmdb_5000_credits.csv\")"
   ]
  },
  {
   "cell_type": "code",
   "execution_count": null,
   "metadata": {},
   "outputs": [],
   "source": [
    "feat_to_manage = ['cast','crew']\n",
    "for f in feat_to_manage:\n",
    "    cast[f] = cast[f].apply(literal_eval)\n",
    "\n",
    "#Two functions that convert directors and actors from json to list-str\n",
    "def get_director(x):\n",
    "    for i in x:\n",
    "        if i['job'] == 'Director':\n",
    "            return i['name']\n",
    "    return np.nan\n",
    "\n",
    "def get_actors(x):\n",
    "    if isinstance(x, list):\n",
    "        names = [i['name'] for i in x]\n",
    "        \n",
    "        return names\n",
    "    return []"
   ]
  },
  {
   "cell_type": "code",
   "execution_count": null,
   "metadata": {},
   "outputs": [],
   "source": [
    "#Create two new column correctly formatted\n",
    "cast['director'] = cast['crew'].apply(get_director)\n",
    "cast['actors'] = cast['cast'].apply(get_actors)"
   ]
  },
  {
   "cell_type": "code",
   "execution_count": null,
   "metadata": {},
   "outputs": [],
   "source": [
    "#Drop old columns\n",
    "cast.drop('cast',inplace=True,axis=1)\n",
    "cast.drop('crew',inplace=True,axis=1)\n",
    "cast.drop('title',inplace=True,axis=1)\n",
    "\n"
   ]
  },
  {
   "cell_type": "code",
   "execution_count": null,
   "metadata": {},
   "outputs": [],
   "source": [
    "Movies.columns"
   ]
  },
  {
   "cell_type": "code",
   "execution_count": null,
   "metadata": {},
   "outputs": [],
   "source": [
    "#rename Movie_id to id, preparing for the merge\n",
    "cast = cast.rename(columns={'movie_id': 'id'})\n",
    "\n",
    "#Merge two dataframe Movies,cast\n",
    "full_df = pd.merge(Movies,cast,on=\"id\",how=\"inner\")\n"
   ]
  },
  {
   "cell_type": "code",
   "execution_count": null,
   "metadata": {},
   "outputs": [],
   "source": [
    "full_df"
   ]
  },
  {
   "attachments": {},
   "cell_type": "markdown",
   "metadata": {},
   "source": [
    "Let's see how many times actors appears in different films"
   ]
  },
  {
   "cell_type": "code",
   "execution_count": null,
   "metadata": {},
   "outputs": [],
   "source": [
    "\n",
    "actors=[]\n",
    "\n",
    "\n",
    "for i in full_df['actors']:\n",
    "    actors.extend(i)\n",
    "\n",
    "actors = list(filter(None, actors))\n",
    "\n",
    "\n",
    "plt.subplots(figsize=(12,10))\n",
    "ax=pd.Series(actors).value_counts()[:15].sort_values(ascending=True).plot.barh(width=0.9,color=sns.color_palette('inferno_r',40))\n",
    "for i, v in enumerate(pd.Series(actors).value_counts()[:15].sort_values(ascending=True).values): \n",
    "    ax.text(.8, i, v,fontsize=10,color='white',weight='bold')\n",
    "\n",
    "plt.title('Actors with highest appearance')\n",
    "ax.patches[14].set_facecolor('r')\n",
    "plt.show()\n"
   ]
  },
  {
   "attachments": {},
   "cell_type": "markdown",
   "metadata": {},
   "source": [
    "### Registi ##"
   ]
  },
  {
   "cell_type": "code",
   "execution_count": null,
   "metadata": {},
   "outputs": [],
   "source": [
    "directors=[]\n",
    "\n",
    "\n",
    "for i in full_df['director']:\n",
    "    directors.append(i)\n",
    "\n",
    "directors = list(filter(None, directors))\n",
    "\n",
    "\n",
    "plt.subplots(figsize=(12,10))\n",
    "ax=pd.Series(directors).value_counts()[:34].sort_values(ascending=True).plot.barh(width=0.9,color=sns.color_palette('inferno_r',40))\n",
    "for i, v in enumerate(pd.Series(directors).value_counts()[:34].sort_values(ascending=True).values): \n",
    "    ax.text(.8, i, v,fontsize=10,color='white',weight='bold')\n",
    "\n",
    "plt.title('Directors with highest appearance')\n",
    "ax.patches[14].set_facecolor('r')\n",
    "plt.show()"
   ]
  },
  {
   "attachments": {},
   "cell_type": "markdown",
   "metadata": {},
   "source": [
    "Calcoliamo Score medio per i registi più presenti(>= 10)"
   ]
  },
  {
   "cell_type": "code",
   "execution_count": null,
   "metadata": {},
   "outputs": [],
   "source": [
    "#Filter the directors with made films >= 10,then calculate the mean scores\n",
    "#Dovrebbe fare lo stesso lavoro di score_for_director applicato poi alla hashmap, quindi ho rimosso entrambe\n",
    "\n",
    "director_group = full_df.groupby('director').filter(lambda x : len(x) >= 10)\n",
    "mean_scores = director_group.groupby('director')['score'].mean().sort_values(ascending=False).reset_index(name=\"score\")\n",
    "mean_scores"
   ]
  },
  {
   "cell_type": "code",
   "execution_count": null,
   "metadata": {},
   "outputs": [],
   "source": [
    "fig, ax = plt.subplots()\n",
    "ax.bar(mean_scores['director'],mean_scores['score'])\n",
    "fig.set_figwidth(20)\n",
    "fig.set_figheight(13)\n",
    "plt.xticks(rotation=90,fontsize=15)\n",
    "plt.yticks(fontsize=15)\n",
    "plt.xlabel(\"Directors\", fontsize=20)\n",
    "plt.ylabel(\"Scores\", fontsize=20)\n",
    "plt.show()"
   ]
  },
  {
   "attachments": {},
   "cell_type": "markdown",
   "metadata": {},
   "source": [
    "cerchiamo non rating ma score: Fatto ^"
   ]
  },
  {
   "attachments": {},
   "cell_type": "markdown",
   "metadata": {},
   "source": [
    "******************************************************************************************************************************************\n",
    "******************************************************************************************************************************************"
   ]
  },
  {
   "attachments": {},
   "cell_type": "markdown",
   "metadata": {},
   "source": [
    "## Dati quantitativi ##"
   ]
  },
  {
   "cell_type": "code",
   "execution_count": null,
   "metadata": {},
   "outputs": [],
   "source": [
    "#Get only the first genre of each films,\n",
    "full_df['genres'] = full_df.apply(lambda x: x['genres'][0] if len(x['genres'])>0 else None, axis=1)"
   ]
  },
  {
   "cell_type": "code",
   "execution_count": null,
   "metadata": {},
   "outputs": [],
   "source": [
    "full_df.head(10)"
   ]
  },
  {
   "attachments": {},
   "cell_type": "markdown",
   "metadata": {},
   "source": [
    "******************************************************************************************************************************************\n",
    "******************************************************************************************************************************************"
   ]
  },
  {
   "cell_type": "code",
   "execution_count": null,
   "metadata": {},
   "outputs": [],
   "source": [
    "from sklearn.ensemble import RandomForestClassifier\n",
    "from sklearn.preprocessing import OneHotEncoder\n",
    "from sklearn.model_selection import train_test_split"
   ]
  },
  {
   "attachments": {},
   "cell_type": "markdown",
   "metadata": {},
   "source": [
    "## random forest ##"
   ]
  },
  {
   "attachments": {},
   "cell_type": "markdown",
   "metadata": {},
   "source": [
    "droppare i nan\n",
    "mettere in codifica hot il primo elemento delle colonne colonne:\n",
    "    genere\n",
    "    keyword\n",
    "    director\n",
    "    attori\n",
    "    paese produ\n",
    "    \n",
    "_____________________________________________________________________\n",
    "fare random forest che predice score/popul/rev/profit/altro usando le colonne fatte sopra\n",
    "    "
   ]
  },
  {
   "attachments": {},
   "cell_type": "markdown",
   "metadata": {},
   "source": [
    "******************************************************************************************************************************************\n",
    "******************************************************************************************************************************************"
   ]
  },
  {
   "attachments": {},
   "cell_type": "markdown",
   "metadata": {},
   "source": [
    "#TOTO: \n",
    "\n",
    "Toccherà caccaire nel cesso le hashmap\n",
    "\n",
    "non è che tocca lavorare sui profitti ottenuti col logaritmo?\n",
    "\n",
    "trovare modo per selezionare solo le country utili (con abbastanza film)\n",
    "\n",
    "#mettere al posto dei -1 i NaN ma solo nella singola colonna non su tutta la riga\n",
    " \n",
    "Qualitativi --> plot e contare, no correlazioni\n",
    "\n",
    "sarebbe carino trovare sia le key con più profitto tra le più comuni sia le più comuni tra quelle con più profitto\n",
    "\n",
    "#Eliminare valori inutile e insensati anche per revenue e \"segnarli\"\n",
    "#Ricalcolare profit selezinando solo i film con valori sensati (!=-1)\n",
    "\n",
    "Plottare profitto in base a:\n",
    "    #genere\n",
    "    keyword\n",
    "    paese prod\n",
    "    lingua originale (forse)\n",
    "\n",
    "Plottare count dei generi in per ogni paese di prod (ad esempio giappone potrebbe avere più animazione della GB)\n",
    "\n",
    "\\************************************************\n",
    "\n",
    "Dati quantitativi --> matematica:\n",
    "\n",
    "Provare corr tra profitto(non revenue) e budget \n",
    "Provare corr tra profitto(non revenue) e score \n",
    "Provare corr tra profitto(non revenue) e popularity \n",
    "\n",
    ".\n",
    ".\n",
    ".\n",
    ".\n",
    "\n",
    "usiamo tutte le verità scoperte per fare varie predizioni\n"
   ]
  }
 ],
 "metadata": {
  "kernelspec": {
   "display_name": "Python 3",
   "language": "python",
   "name": "python3"
  },
  "language_info": {
   "codemirror_mode": {
    "name": "ipython",
    "version": 3
   },
   "file_extension": ".py",
   "mimetype": "text/x-python",
   "name": "python",
   "nbconvert_exporter": "python",
   "pygments_lexer": "ipython3",
   "version": "3.10.6"
  },
  "orig_nbformat": 4,
  "vscode": {
   "interpreter": {
    "hash": "31f2aee4e71d21fbe5cf8b01ff0e069b9275f58929596ceb00d14d90e3e16cd6"
   }
  }
 },
 "nbformat": 4,
 "nbformat_minor": 2
}
