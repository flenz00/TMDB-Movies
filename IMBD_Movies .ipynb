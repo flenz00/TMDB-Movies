{
 "cells": [
  {
   "attachments": {},
   "cell_type": "markdown",
   "metadata": {},
   "source": [
    "## **Exploratory analysis and prediction on the \"TMDB 5000 Movie Dataset\" dataset**\n",
    "\n",
    "***Authors: Bava Flavio 4836427 , Ciarlo Francesco 4640121, Oldrini Edoardo 4055097***\n",
    "\n",
    "**Abstract**\n",
    "\n",
    "The following data analysis aims to study an approach for the production of a movie.<br><br>\n",
    "This file is divided like so:\n",
    "* Dataset checking and preparation\n",
    "* Initial exploration of the dataset\n",
    "* Raising hypotheses and subsequent verification\n",
    "* Proposal for a predictive regression based on previous observations"
   ]
  },
  {
   "attachments": {},
   "cell_type": "markdown",
   "metadata": {},
   "source": [
    "**Importing libraries and datasets**"
   ]
  },
  {
   "cell_type": "code",
   "execution_count": 124,
   "metadata": {},
   "outputs": [
    {
     "data": {
      "text/html": [
       "        <script type=\"text/javascript\">\n",
       "        window.PlotlyConfig = {MathJaxConfig: 'local'};\n",
       "        if (window.MathJax && window.MathJax.Hub && window.MathJax.Hub.Config) {window.MathJax.Hub.Config({SVG: {font: \"STIX-Web\"}});}\n",
       "        if (typeof require !== 'undefined') {\n",
       "        require.undef(\"plotly\");\n",
       "        requirejs.config({\n",
       "            paths: {\n",
       "                'plotly': ['https://cdn.plot.ly/plotly-2.17.1.min']\n",
       "            }\n",
       "        });\n",
       "        require(['plotly'], function(Plotly) {\n",
       "            window._Plotly = Plotly;\n",
       "        });\n",
       "        }\n",
       "        </script>\n",
       "        "
      ]
     },
     "metadata": {},
     "output_type": "display_data"
    }
   ],
   "source": [
    "#ciaosonofranm,n,\n",
    "import matplotlib.pyplot as plt # this is used for the plot the graph \n",
    "import numpy as np # linear algebra\n",
    "import pandas as pd # data processing, CSV file I/O (e.g. pd.read_csv)\n",
    "import seaborn as sns # used for plot interactive graph.\n",
    "import numpy as np \n",
    "import plotly.offline as py \n",
    "import json\n",
    "from plotnine import ggplot,aes,facet_grid,labs,geom_col,theme_xkcd\n",
    "py.init_notebook_mode(connected=True) #TODO ????\n",
    "import plotly.graph_objs as go\n",
    "import warnings #TODO ????\n",
    "warnings.filterwarnings('ignore') #TODO ????\n",
    "from pylab import rcParams #TODO ????\n",
    "from ast import literal_eval"
   ]
  },
  {
   "cell_type": "code",
   "execution_count": 125,
   "metadata": {},
   "outputs": [],
   "source": [
    "Movies = pd.read_csv('tmdb_5000_movies.csv')"
   ]
  },
  {
   "attachments": {},
   "cell_type": "markdown",
   "metadata": {},
   "source": [
    "### **Exploratory analysis of the dataset**"
   ]
  },
  {
   "attachments": {},
   "cell_type": "markdown",
   "metadata": {},
   "source": [
    "Moving all columns with Json data into list"
   ]
  },
  {
   "cell_type": "code",
   "execution_count": 126,
   "metadata": {},
   "outputs": [],
   "source": [
    "#TODO: da cosa si vede che sono in Json?\n",
    "Movies['genres']=Movies['genres'].apply(json.loads)\n",
    "for index,i in zip(Movies.index,Movies['genres']):\n",
    "    list1=[]\n",
    "    for j in range(len(i)):\n",
    "        list1.append((i[j]['name']))# the key 'name' contains the name of the genre\n",
    "    Movies.loc[index,'genres']=str(list1)\n",
    "\n",
    "Movies['keywords']=Movies['keywords'].apply(json.loads)\n",
    "for index,i in zip(Movies.index,Movies['keywords']):\n",
    "    list1=[]\n",
    "    for j in range(len(i)):\n",
    "        list1.append((i[j]['name']))\n",
    "    Movies.loc[index,'keywords']=str(list1)\n",
    "    \n",
    "## changing the production_companies column from json to string\n",
    "Movies['production_companies']=Movies['production_companies'].apply(json.loads)\n",
    "for index,i in zip(Movies.index,Movies['production_companies']):\n",
    "    list1=[]\n",
    "    for j in range(len(i)):\n",
    "        list1.append((i[j]['name']))\n",
    "    Movies.loc[index,'production_companies']=str(list1)\n",
    "    \n",
    "# changing the production_countries column from json to string    \n",
    "Movies['production_countries']=Movies['production_countries'].apply(json.loads)\n",
    "for index,i in zip(Movies.index,Movies['production_countries']):\n",
    "    list1=[]\n",
    "    for j in range(len(i)):\n",
    "        list1.append((i[j]['iso_3166_1']))\n",
    "    Movies.loc[index,'production_countries']=str(list1)"
   ]
  },
  {
   "attachments": {},
   "cell_type": "markdown",
   "metadata": {},
   "source": [
    "Check dataset dimension and an overview of the table itself"
   ]
  },
  {
   "cell_type": "code",
   "execution_count": 127,
   "metadata": {},
   "outputs": [
    {
     "name": "stdout",
     "output_type": "stream",
     "text": [
      "(4803, 20)\n"
     ]
    },
    {
     "data": {
      "text/html": [
       "<div>\n",
       "<style scoped>\n",
       "    .dataframe tbody tr th:only-of-type {\n",
       "        vertical-align: middle;\n",
       "    }\n",
       "\n",
       "    .dataframe tbody tr th {\n",
       "        vertical-align: top;\n",
       "    }\n",
       "\n",
       "    .dataframe thead th {\n",
       "        text-align: right;\n",
       "    }\n",
       "</style>\n",
       "<table border=\"1\" class=\"dataframe\">\n",
       "  <thead>\n",
       "    <tr style=\"text-align: right;\">\n",
       "      <th></th>\n",
       "      <th>budget</th>\n",
       "      <th>genres</th>\n",
       "      <th>homepage</th>\n",
       "      <th>id</th>\n",
       "      <th>keywords</th>\n",
       "      <th>original_language</th>\n",
       "      <th>original_title</th>\n",
       "      <th>overview</th>\n",
       "      <th>popularity</th>\n",
       "      <th>production_companies</th>\n",
       "      <th>production_countries</th>\n",
       "      <th>release_date</th>\n",
       "      <th>revenue</th>\n",
       "      <th>runtime</th>\n",
       "      <th>spoken_languages</th>\n",
       "      <th>status</th>\n",
       "      <th>tagline</th>\n",
       "      <th>title</th>\n",
       "      <th>vote_average</th>\n",
       "      <th>vote_count</th>\n",
       "    </tr>\n",
       "  </thead>\n",
       "  <tbody>\n",
       "    <tr>\n",
       "      <th>0</th>\n",
       "      <td>237000000</td>\n",
       "      <td>['Action', 'Adventure', 'Fantasy', 'Science Fi...</td>\n",
       "      <td>http://www.avatarmovie.com/</td>\n",
       "      <td>19995</td>\n",
       "      <td>['culture clash', 'future', 'space war', 'spac...</td>\n",
       "      <td>en</td>\n",
       "      <td>Avatar</td>\n",
       "      <td>In the 22nd century, a paraplegic Marine is di...</td>\n",
       "      <td>150.437577</td>\n",
       "      <td>['Ingenious Film Partners', 'Twentieth Century...</td>\n",
       "      <td>['US', 'GB']</td>\n",
       "      <td>2009-12-10</td>\n",
       "      <td>2787965087</td>\n",
       "      <td>162.0</td>\n",
       "      <td>[{\"iso_639_1\": \"en\", \"name\": \"English\"}, {\"iso...</td>\n",
       "      <td>Released</td>\n",
       "      <td>Enter the World of Pandora.</td>\n",
       "      <td>Avatar</td>\n",
       "      <td>7.2</td>\n",
       "      <td>11800</td>\n",
       "    </tr>\n",
       "    <tr>\n",
       "      <th>1</th>\n",
       "      <td>300000000</td>\n",
       "      <td>['Adventure', 'Fantasy', 'Action']</td>\n",
       "      <td>http://disney.go.com/disneypictures/pirates/</td>\n",
       "      <td>285</td>\n",
       "      <td>['ocean', 'drug abuse', 'exotic island', 'east...</td>\n",
       "      <td>en</td>\n",
       "      <td>Pirates of the Caribbean: At World's End</td>\n",
       "      <td>Captain Barbossa, long believed to be dead, ha...</td>\n",
       "      <td>139.082615</td>\n",
       "      <td>['Walt Disney Pictures', 'Jerry Bruckheimer Fi...</td>\n",
       "      <td>['US']</td>\n",
       "      <td>2007-05-19</td>\n",
       "      <td>961000000</td>\n",
       "      <td>169.0</td>\n",
       "      <td>[{\"iso_639_1\": \"en\", \"name\": \"English\"}]</td>\n",
       "      <td>Released</td>\n",
       "      <td>At the end of the world, the adventure begins.</td>\n",
       "      <td>Pirates of the Caribbean: At World's End</td>\n",
       "      <td>6.9</td>\n",
       "      <td>4500</td>\n",
       "    </tr>\n",
       "  </tbody>\n",
       "</table>\n",
       "</div>"
      ],
      "text/plain": [
       "      budget                                             genres  \\\n",
       "0  237000000  ['Action', 'Adventure', 'Fantasy', 'Science Fi...   \n",
       "1  300000000                 ['Adventure', 'Fantasy', 'Action']   \n",
       "\n",
       "                                       homepage     id  \\\n",
       "0                   http://www.avatarmovie.com/  19995   \n",
       "1  http://disney.go.com/disneypictures/pirates/    285   \n",
       "\n",
       "                                            keywords original_language  \\\n",
       "0  ['culture clash', 'future', 'space war', 'spac...                en   \n",
       "1  ['ocean', 'drug abuse', 'exotic island', 'east...                en   \n",
       "\n",
       "                             original_title  \\\n",
       "0                                    Avatar   \n",
       "1  Pirates of the Caribbean: At World's End   \n",
       "\n",
       "                                            overview  popularity  \\\n",
       "0  In the 22nd century, a paraplegic Marine is di...  150.437577   \n",
       "1  Captain Barbossa, long believed to be dead, ha...  139.082615   \n",
       "\n",
       "                                production_companies production_countries  \\\n",
       "0  ['Ingenious Film Partners', 'Twentieth Century...         ['US', 'GB']   \n",
       "1  ['Walt Disney Pictures', 'Jerry Bruckheimer Fi...               ['US']   \n",
       "\n",
       "  release_date     revenue  runtime  \\\n",
       "0   2009-12-10  2787965087    162.0   \n",
       "1   2007-05-19   961000000    169.0   \n",
       "\n",
       "                                    spoken_languages    status  \\\n",
       "0  [{\"iso_639_1\": \"en\", \"name\": \"English\"}, {\"iso...  Released   \n",
       "1           [{\"iso_639_1\": \"en\", \"name\": \"English\"}]  Released   \n",
       "\n",
       "                                          tagline  \\\n",
       "0                     Enter the World of Pandora.   \n",
       "1  At the end of the world, the adventure begins.   \n",
       "\n",
       "                                      title  vote_average  vote_count  \n",
       "0                                    Avatar           7.2       11800  \n",
       "1  Pirates of the Caribbean: At World's End           6.9        4500  "
      ]
     },
     "execution_count": 127,
     "metadata": {},
     "output_type": "execute_result"
    }
   ],
   "source": [
    "print(Movies.shape)\n",
    "Movies.head(2)\n"
   ]
  },
  {
   "attachments": {},
   "cell_type": "markdown",
   "metadata": {},
   "source": [
    "dimensioni = "
   ]
  },
  {
   "attachments": {},
   "cell_type": "markdown",
   "metadata": {},
   "source": [
    "Droppiamo colonne inutili"
   ]
  },
  {
   "cell_type": "code",
   "execution_count": 128,
   "metadata": {},
   "outputs": [
    {
     "data": {
      "text/plain": [
       "(4803, 17)"
      ]
     },
     "execution_count": 128,
     "metadata": {},
     "output_type": "execute_result"
    }
   ],
   "source": [
    "Movies.drop(['homepage','spoken_languages','original_title'],inplace=True,axis='columns')\n",
    "Movies.shape"
   ]
  },
  {
   "attachments": {},
   "cell_type": "markdown",
   "metadata": {},
   "source": [
    "1. Controlliamo chei tipi siano giusti"
   ]
  },
  {
   "cell_type": "code",
   "execution_count": 129,
   "metadata": {},
   "outputs": [
    {
     "name": "stdout",
     "output_type": "stream",
     "text": [
      "<class 'pandas.core.frame.DataFrame'>\n",
      "RangeIndex: 4803 entries, 0 to 4802\n",
      "Data columns (total 17 columns):\n",
      " #   Column                Non-Null Count  Dtype  \n",
      "---  ------                --------------  -----  \n",
      " 0   budget                4803 non-null   int64  \n",
      " 1   genres                4803 non-null   object \n",
      " 2   id                    4803 non-null   int64  \n",
      " 3   keywords              4803 non-null   object \n",
      " 4   original_language     4803 non-null   object \n",
      " 5   overview              4800 non-null   object \n",
      " 6   popularity            4803 non-null   float64\n",
      " 7   production_companies  4803 non-null   object \n",
      " 8   production_countries  4803 non-null   object \n",
      " 9   release_date          4802 non-null   object \n",
      " 10  revenue               4803 non-null   int64  \n",
      " 11  runtime               4801 non-null   float64\n",
      " 12  status                4803 non-null   object \n",
      " 13  tagline               3959 non-null   object \n",
      " 14  title                 4803 non-null   object \n",
      " 15  vote_average          4803 non-null   float64\n",
      " 16  vote_count            4803 non-null   int64  \n",
      "dtypes: float64(3), int64(4), object(10)\n",
      "memory usage: 638.0+ KB\n"
     ]
    }
   ],
   "source": [
    "Movies.info()"
   ]
  },
  {
   "attachments": {},
   "cell_type": "markdown",
   "metadata": {},
   "source": [
    "I tipi sono coerenti"
   ]
  },
  {
   "attachments": {},
   "cell_type": "markdown",
   "metadata": {},
   "source": [
    "2. Controlliamo se ci sono dati mancanti"
   ]
  },
  {
   "cell_type": "code",
   "execution_count": 130,
   "metadata": {},
   "outputs": [
    {
     "name": "stdout",
     "output_type": "stream",
     "text": [
      "budget                    0\n",
      "genres                    0\n",
      "id                        0\n",
      "keywords                  0\n",
      "original_language         0\n",
      "overview                  3\n",
      "popularity                0\n",
      "production_companies      0\n",
      "production_countries      0\n",
      "release_date              1\n",
      "revenue                   0\n",
      "runtime                   2\n",
      "status                    0\n",
      "tagline                 844\n",
      "title                     0\n",
      "vote_average              0\n",
      "vote_count                0\n",
      "dtype: int64\n"
     ]
    }
   ],
   "source": [
    "print(Movies.isnull().sum())"
   ]
  },
  {
   "attachments": {},
   "cell_type": "markdown",
   "metadata": {},
   "source": [
    "ci sono alcuni valori nulli ma in colonne che potrebbero non essere significative"
   ]
  },
  {
   "attachments": {},
   "cell_type": "markdown",
   "metadata": {},
   "source": [
    "3. Controlliamo che i budget abbiano valori sensati"
   ]
  },
  {
   "cell_type": "code",
   "execution_count": 131,
   "metadata": {},
   "outputs": [
    {
     "name": "stdout",
     "output_type": "stream",
     "text": [
      "count    4.803000e+03\n",
      "mean     2.904504e+07\n",
      "std      4.072239e+07\n",
      "min      0.000000e+00\n",
      "25%      7.900000e+05\n",
      "50%      1.500000e+07\n",
      "75%      4.000000e+07\n",
      "max      3.800000e+08\n",
      "Name: budget, dtype: float64\n"
     ]
    }
   ],
   "source": [
    "#TODO possibile predizione buget come studio\n",
    "print(Movies['budget'].describe())"
   ]
  },
  {
   "attachments": {},
   "cell_type": "markdown",
   "metadata": {},
   "source": [
    "Il valore minimo è 0, abbiamo quindi il dubbbio che ci siano budget con valori insiensati, per conoscenza del dominio applciativo decidiamo di porre il limite inferiore di 10k per il budget, verifichiamo quanti film sono sotto a questo valore."
   ]
  },
  {
   "attachments": {},
   "cell_type": "markdown",
   "metadata": {},
   "source": [
    "Ci sono 1400 film con un valore di budget che non sembra avere senso, per evitare di eliminare tutti i dati relativi a questo film decidiamo di \"segnarli\" ponendo il budget ad un valore simbolico di -1 questi dati in modo da non prenderli in considerazione nelle statistiche ma non perdere altri dati interesanti."
   ]
  },
  {
   "cell_type": "code",
   "execution_count": 132,
   "metadata": {},
   "outputs": [
    {
     "name": "stdout",
     "output_type": "stream",
     "text": [
      "(0, 17)\n"
     ]
    }
   ],
   "source": [
    "#Movies[Movies['budget'] <= 10000]['budget'] = np.nan\n",
    "for row in Movies.index:\n",
    "    if Movies.loc[row,'budget'] < 10000 and (Movies.loc[row, 'status']=='Released'):\n",
    "        Movies.loc[row,'budget'] = np.nan\n",
    "print(Movies[Movies['budget'] == np.nan].shape)"
   ]
  },
  {
   "cell_type": "code",
   "execution_count": 133,
   "metadata": {},
   "outputs": [
    {
     "name": "stdout",
     "output_type": "stream",
     "text": [
      "5\n"
     ]
    }
   ],
   "source": [
    "print(Movies[Movies['budget']<10000]['id'].count())\n",
    "#Movies.tail()"
   ]
  },
  {
   "attachments": {},
   "cell_type": "markdown",
   "metadata": {},
   "source": [
    "4. Controlliamo che i revenue abbiano valori sensati"
   ]
  },
  {
   "cell_type": "code",
   "execution_count": 134,
   "metadata": {},
   "outputs": [
    {
     "name": "stdout",
     "output_type": "stream",
     "text": [
      "count    4.803000e+03\n",
      "mean     8.226064e+07\n",
      "std      1.628571e+08\n",
      "min      0.000000e+00\n",
      "25%      0.000000e+00\n",
      "50%      1.917000e+07\n",
      "75%      9.291719e+07\n",
      "max      2.787965e+09\n",
      "Name: revenue, dtype: float64\n"
     ]
    }
   ],
   "source": [
    "#TODO possibile predizione buget come studio\n",
    "#Movies.tail()\n",
    "print(Movies['revenue'].describe())"
   ]
  },
  {
   "attachments": {},
   "cell_type": "markdown",
   "metadata": {},
   "source": [
    "molti film hanno revenue nullo, che siano film ancora non usciti?"
   ]
  },
  {
   "cell_type": "code",
   "execution_count": 135,
   "metadata": {},
   "outputs": [
    {
     "name": "stdout",
     "output_type": "stream",
     "text": [
      "Movies with 0$ revenues:  1427\n",
      "Movies not yet released 7\n"
     ]
    }
   ],
   "source": [
    "print('Movies with 0$ revenues: ',Movies[Movies['revenue'] == 0].shape[0])\n",
    "print('Movies not yet released', Movies[(Movies['revenue'] == 0) & (Movies['status']!= 'Released')].shape[0])"
   ]
  },
  {
   "attachments": {},
   "cell_type": "markdown",
   "metadata": {},
   "source": [
    "Su 1427 film che hanno revenue = 0 solo 7 sono ancora in fase di produzione, quindi 1427 film hanno un valore di revenue errato che procediamo a segnare, come visto precedentemente, con un valore simbolico di -1"
   ]
  },
  {
   "cell_type": "code",
   "execution_count": 136,
   "metadata": {},
   "outputs": [
    {
     "name": "stdout",
     "output_type": "stream",
     "text": [
      "Movies without revenue infos:  1420\n"
     ]
    }
   ],
   "source": [
    "for row in Movies.index:\n",
    "    if (Movies.loc[row, 'revenue'] == 0) and (Movies.loc[row, 'status']=='Released'):\n",
    "        Movies.loc[row, 'revenue'] = -1\n",
    "\n",
    "print('Movies without revenue infos: ',Movies[Movies['revenue'] == -1].shape[0])\n"
   ]
  },
  {
   "attachments": {},
   "cell_type": "markdown",
   "metadata": {},
   "source": [
    "3. Ulteriori aggiustamenti"
   ]
  },
  {
   "attachments": {},
   "cell_type": "markdown",
   "metadata": {},
   "source": [
    "Aggiungiamo due colonne legate al budget, una misura i ricavi sulla percentuale rispetto al budget, l'altra divide i film in 3 categorie, low budget, normali e blockbuster\n"
   ]
  },
  {
   "attachments": {},
   "cell_type": "markdown",
   "metadata": {},
   "source": [
    "1) Ricavi rispetto al budget\n"
   ]
  },
  {
   "cell_type": "code",
   "execution_count": 137,
   "metadata": {},
   "outputs": [],
   "source": [
    "def calculate_profit_perc(x):\n",
    "    if (x.revenue>0) and (x.budget>0):\n",
    "        return ((x.revenue-x.budget)/x.budget)*100\n",
    "    #senza else mette i nan, altrimenti possiamo metterlo e ritornare -1"
   ]
  },
  {
   "cell_type": "code",
   "execution_count": 138,
   "metadata": {},
   "outputs": [],
   "source": [
    "#Movies = Movies.assign(profit_perc = lambda x: (((x.revenue-x.budget)/x.budget)*100) if ((x.revenue>0) and (x.budget>0)) else -1)\n",
    "#print(Movies[Movies['budget'].isnull()])\n",
    "Movies = Movies.assign(profit_perc = lambda x: x.budget)\n",
    "for row in Movies.index:\n",
    "    Movies.loc[row,'profit_perc'] =  calculate_profit_perc(Movies.loc[row])\n",
    "\n"
   ]
  },
  {
   "attachments": {},
   "cell_type": "markdown",
   "metadata": {},
   "source": [
    "2. Classificazioni film in low, med, high budget"
   ]
  },
  {
   "attachments": {},
   "cell_type": "markdown",
   "metadata": {},
   "source": [
    "usiamo describe per capire come impostare gli scaglioni"
   ]
  },
  {
   "cell_type": "code",
   "execution_count": 139,
   "metadata": {},
   "outputs": [
    {
     "data": {
      "text/plain": [
       "count    3.731000e+03\n",
       "mean     3.739032e+07\n",
       "std      4.269420e+07\n",
       "min      1.000000e+04\n",
       "25%      8.850000e+06\n",
       "50%      2.400000e+07\n",
       "75%      5.000000e+07\n",
       "max      3.800000e+08\n",
       "Name: budget, dtype: float64"
      ]
     },
     "execution_count": 139,
     "metadata": {},
     "output_type": "execute_result"
    }
   ],
   "source": [
    "Movies[Movies['budget']>0]['budget'].describe()"
   ]
  },
  {
   "attachments": {},
   "cell_type": "markdown",
   "metadata": {},
   "source": [
    "Low budget = 25% con budget più bassi<br>\n",
    "High budget = 25% con budget più alti<br>\n",
    "Medio = il restante 50%"
   ]
  },
  {
   "cell_type": "code",
   "execution_count": 140,
   "metadata": {},
   "outputs": [],
   "source": [
    "def budget_range(x):\n",
    "    if x <= 0: #x==NaN\n",
    "        return \"no budget info\"\n",
    "    if x < 7.900000e+05:\n",
    "        return \"low\"\n",
    "    elif x >= 7.900000e+05 and x < 4.000000e+07:\n",
    "        return \"medium\"\n",
    "    else:\n",
    "        return \"high\""
   ]
  },
  {
   "attachments": {},
   "cell_type": "markdown",
   "metadata": {},
   "source": [
    "aggiungiamo una colonna che contiene l'etichetta relativa al budget"
   ]
  },
  {
   "cell_type": "code",
   "execution_count": 141,
   "metadata": {},
   "outputs": [],
   "source": [
    "Movies = Movies.assign(budget_class = lambda x: str(x.budget))\n",
    "for row in Movies.index:\n",
    "    Movies.loc[row,'budget_class'] =  budget_range(Movies.loc[row,'budget'])\n"
   ]
  },
  {
   "cell_type": "code",
   "execution_count": 142,
   "metadata": {},
   "outputs": [
    {
     "data": {
      "image/png": "[encoded data removed]",
      "text/plain": [
       "<Figure size 432x288 with 1 Axes>"
      ]
     },
     "metadata": {
      "needs_background": "light"
     },
     "output_type": "display_data"
    }
   ],
   "source": [
    "#TODO: perchè prendiamo solo i budget>10^7 e non tutti i non negativi?\n",
    "#sns.kdeplot(data=Movies[Movies['budget'] >0], x='budget', shade = True)\n",
    "sns.kdeplot(data=Movies[Movies['budget'] >= 4.000000e+07], x='budget', shade = True)\n",
    "plt.legend(['Budget'])\n",
    "plt.show()\n"
   ]
  },
  {
   "cell_type": "code",
   "execution_count": 143,
   "metadata": {},
   "outputs": [],
   "source": [
    "#TODO: la possiamo cancellare??\n",
    "#Movies['budget'].describe()\n",
    "#Movies[Movies['budget'] <= 7.900000e+05].shape\n",
    "#Movies[(Movies['budget'] <= 1.500000e+07) & Movies['budget']<= 4.000000e+07].shape\n",
    "#Movies[(Movies['budget'] >=   1.500000e+07) & (Movies['budget'] <= 4.000000e+07)].shape\n",
    "#print(11 in range(0,10))\n",
    "#Movies([Movies['budget'] >= 1.500000e+07] and (Movies['budget'] <= 4.000000e+07)).shape\n"
   ]
  },
  {
   "attachments": {},
   "cell_type": "markdown",
   "metadata": {},
   "source": [
    "Riteniamo importante che la media dei voti sia pesata con il numero di voti che la generano, per fare questo usiamo una formula consigliata dal celebre sito IMBD e togliamo le due colonne average e count per unirle in una che le metta insieme"
   ]
  },
  {
   "cell_type": "code",
   "execution_count": 144,
   "metadata": {},
   "outputs": [
    {
     "name": "stdout",
     "output_type": "stream",
     "text": [
      "(2407, 19)\n"
     ]
    }
   ],
   "source": [
    "#TODO: potremmo anche fare questo lavoro sul dataset di partenza aggiungendo una colonna, metà avranno nan\n",
    "C= Movies['vote_average'].mean()\n",
    "C\n",
    "m= Movies['vote_count'].quantile(0.5)\n",
    "m\n",
    "q_movies = Movies.copy().loc[Movies['vote_count'] >= m]\n",
    "q_movies.shape\n",
    "q_movies['vote_count'].describe()\n",
    "print(q_movies.shape)"
   ]
  },
  {
   "cell_type": "code",
   "execution_count": 145,
   "metadata": {},
   "outputs": [],
   "source": [
    "def weighted_rating(x, m=m, C=C):\n",
    "    v = x['vote_count']\n",
    "    R = x['vote_average']\n",
    "    # Calculation based on the IMDB formula\n",
    "    return (v/(v+m) * R) + (m/(m+v) * C)"
   ]
  },
  {
   "cell_type": "code",
   "execution_count": 146,
   "metadata": {},
   "outputs": [
    {
     "data": {
      "text/plain": [
       "(2407, 18)"
      ]
     },
     "execution_count": 146,
     "metadata": {},
     "output_type": "execute_result"
    }
   ],
   "source": [
    "# Define a new feature 'score' and calculate its value with `weighted_rating()`\n",
    "q_movies['score'] = q_movies.apply(weighted_rating, axis=1)\n",
    "q_movies.drop(['vote_average','vote_count'],inplace=True,axis='columns')\n",
    "#q_movies[q_movies['vote_count']<280].head(10)\n",
    "q_movies.shape"
   ]
  },
  {
   "attachments": {},
   "cell_type": "markdown",
   "metadata": {},
   "source": [
    "Abbiamo eliminato metà dei film, quelli con troppi pochi voti per poter essere presi in considerazione per quanto riguarda il voto ricevuto."
   ]
  },
  {
   "attachments": {},
   "cell_type": "markdown",
   "metadata": {},
   "source": [
    "Breve sguardo agli attributi quantitativi"
   ]
  },
  {
   "cell_type": "code",
   "execution_count": 147,
   "metadata": {},
   "outputs": [
    {
     "data": {
      "text/html": [
       "<div>\n",
       "<style scoped>\n",
       "    .dataframe tbody tr th:only-of-type {\n",
       "        vertical-align: middle;\n",
       "    }\n",
       "\n",
       "    .dataframe tbody tr th {\n",
       "        vertical-align: top;\n",
       "    }\n",
       "\n",
       "    .dataframe thead th {\n",
       "        text-align: right;\n",
       "    }\n",
       "</style>\n",
       "<table border=\"1\" class=\"dataframe\">\n",
       "  <thead>\n",
       "    <tr style=\"text-align: right;\">\n",
       "      <th></th>\n",
       "      <th>budget</th>\n",
       "      <th>id</th>\n",
       "      <th>popularity</th>\n",
       "      <th>revenue</th>\n",
       "      <th>runtime</th>\n",
       "      <th>vote_average</th>\n",
       "      <th>vote_count</th>\n",
       "      <th>profit_perc</th>\n",
       "    </tr>\n",
       "  </thead>\n",
       "  <tbody>\n",
       "    <tr>\n",
       "      <th>count</th>\n",
       "      <td>3.736000e+03</td>\n",
       "      <td>4803.000000</td>\n",
       "      <td>4803.000000</td>\n",
       "      <td>4.803000e+03</td>\n",
       "      <td>4801.000000</td>\n",
       "      <td>4803.000000</td>\n",
       "      <td>4803.000000</td>\n",
       "      <td>3.214000e+03</td>\n",
       "    </tr>\n",
       "    <tr>\n",
       "      <th>mean</th>\n",
       "      <td>3.734028e+07</td>\n",
       "      <td>57165.484281</td>\n",
       "      <td>21.492301</td>\n",
       "      <td>8.226064e+07</td>\n",
       "      <td>106.875859</td>\n",
       "      <td>6.092172</td>\n",
       "      <td>690.217989</td>\n",
       "      <td>1.009349e+03</td>\n",
       "    </tr>\n",
       "    <tr>\n",
       "      <th>std</th>\n",
       "      <td>4.268752e+07</td>\n",
       "      <td>88694.614033</td>\n",
       "      <td>31.816650</td>\n",
       "      <td>1.628571e+08</td>\n",
       "      <td>22.611935</td>\n",
       "      <td>1.194612</td>\n",
       "      <td>1234.585891</td>\n",
       "      <td>2.399545e+04</td>\n",
       "    </tr>\n",
       "    <tr>\n",
       "      <th>min</th>\n",
       "      <td>0.000000e+00</td>\n",
       "      <td>5.000000</td>\n",
       "      <td>0.000000</td>\n",
       "      <td>-1.000000e+00</td>\n",
       "      <td>0.000000</td>\n",
       "      <td>0.000000</td>\n",
       "      <td>0.000000</td>\n",
       "      <td>-9.999995e+01</td>\n",
       "    </tr>\n",
       "    <tr>\n",
       "      <th>25%</th>\n",
       "      <td>8.500000e+06</td>\n",
       "      <td>9014.500000</td>\n",
       "      <td>4.668070</td>\n",
       "      <td>-1.000000e+00</td>\n",
       "      <td>94.000000</td>\n",
       "      <td>5.600000</td>\n",
       "      <td>54.000000</td>\n",
       "      <td>2.586393e+00</td>\n",
       "    </tr>\n",
       "    <tr>\n",
       "      <th>50%</th>\n",
       "      <td>2.300000e+07</td>\n",
       "      <td>14629.000000</td>\n",
       "      <td>12.921594</td>\n",
       "      <td>1.917000e+07</td>\n",
       "      <td>103.000000</td>\n",
       "      <td>6.200000</td>\n",
       "      <td>235.000000</td>\n",
       "      <td>1.300444e+02</td>\n",
       "    </tr>\n",
       "    <tr>\n",
       "      <th>75%</th>\n",
       "      <td>5.000000e+07</td>\n",
       "      <td>58610.500000</td>\n",
       "      <td>28.313505</td>\n",
       "      <td>9.291719e+07</td>\n",
       "      <td>118.000000</td>\n",
       "      <td>6.800000</td>\n",
       "      <td>737.000000</td>\n",
       "      <td>3.416902e+02</td>\n",
       "    </tr>\n",
       "    <tr>\n",
       "      <th>max</th>\n",
       "      <td>3.800000e+08</td>\n",
       "      <td>459488.000000</td>\n",
       "      <td>875.581305</td>\n",
       "      <td>2.787965e+09</td>\n",
       "      <td>338.000000</td>\n",
       "      <td>10.000000</td>\n",
       "      <td>13752.000000</td>\n",
       "      <td>1.288939e+06</td>\n",
       "    </tr>\n",
       "  </tbody>\n",
       "</table>\n",
       "</div>"
      ],
      "text/plain": [
       "             budget             id   popularity       revenue      runtime  \\\n",
       "count  3.736000e+03    4803.000000  4803.000000  4.803000e+03  4801.000000   \n",
       "mean   3.734028e+07   57165.484281    21.492301  8.226064e+07   106.875859   \n",
       "std    4.268752e+07   88694.614033    31.816650  1.628571e+08    22.611935   \n",
       "min    0.000000e+00       5.000000     0.000000 -1.000000e+00     0.000000   \n",
       "25%    8.500000e+06    9014.500000     4.668070 -1.000000e+00    94.000000   \n",
       "50%    2.300000e+07   14629.000000    12.921594  1.917000e+07   103.000000   \n",
       "75%    5.000000e+07   58610.500000    28.313505  9.291719e+07   118.000000   \n",
       "max    3.800000e+08  459488.000000   875.581305  2.787965e+09   338.000000   \n",
       "\n",
       "       vote_average    vote_count   profit_perc  \n",
       "count   4803.000000   4803.000000  3.214000e+03  \n",
       "mean       6.092172    690.217989  1.009349e+03  \n",
       "std        1.194612   1234.585891  2.399545e+04  \n",
       "min        0.000000      0.000000 -9.999995e+01  \n",
       "25%        5.600000     54.000000  2.586393e+00  \n",
       "50%        6.200000    235.000000  1.300444e+02  \n",
       "75%        6.800000    737.000000  3.416902e+02  \n",
       "max       10.000000  13752.000000  1.288939e+06  "
      ]
     },
     "execution_count": 147,
     "metadata": {},
     "output_type": "execute_result"
    }
   ],
   "source": [
    "Movies.describe()"
   ]
  },
  {
   "attachments": {},
   "cell_type": "markdown",
   "metadata": {},
   "source": [
    "### **Cominciamo a fare qualche ipotesi**"
   ]
  },
  {
   "attachments": {},
   "cell_type": "markdown",
   "metadata": {},
   "source": [
    "**1. Dati qualitativi**"
   ]
  },
  {
   "attachments": {},
   "cell_type": "markdown",
   "metadata": {},
   "source": [
    "usiamo una funziona di libreria per portare genri, keyword, paesi di produzione e compagnie di produzione in un formato più semplice da gestire"
   ]
  },
  {
   "cell_type": "code",
   "execution_count": 148,
   "metadata": {},
   "outputs": [],
   "source": [
    "feat_to_manage = ['genres','keywords','production_countries','production_companies']"
   ]
  },
  {
   "cell_type": "code",
   "execution_count": 149,
   "metadata": {},
   "outputs": [],
   "source": [
    "#TODO: dopo la cosa del Json serve ancora?\n",
    "for f in feat_to_manage:\n",
    "    Movies[f] = Movies[f].apply(literal_eval)"
   ]
  },
  {
   "attachments": {},
   "cell_type": "markdown",
   "metadata": {},
   "source": [
    "******************************************************************************************************************************************\n",
    "******************************************************************************************************************************************"
   ]
  },
  {
   "attachments": {},
   "cell_type": "markdown",
   "metadata": {},
   "source": [
    "## Dati qualitativi ##"
   ]
  },
  {
   "attachments": {},
   "cell_type": "markdown",
   "metadata": {},
   "source": [
    "Proviamo a definire delle funzioni per verificare la distribuzione di voti e soldoni fatti in base ai dati qualitativi"
   ]
  },
  {
   "cell_type": "code",
   "execution_count": 150,
   "metadata": {},
   "outputs": [],
   "source": [
    "#TODO: perchè è commentata? Non serve più?\n",
    "#def get_name(x):\n",
    " #   if isinstance(x, list):\n",
    "  #      names = [i['name'] for i in x]\n",
    "   #     return names\n",
    "    #return []"
   ]
  },
  {
   "attachments": {},
   "cell_type": "markdown",
   "metadata": {},
   "source": [
    "### Primo qualitativo: generi ###"
   ]
  },
  {
   "attachments": {},
   "cell_type": "markdown",
   "metadata": {},
   "source": [
    "1. definiamo funzione che dato un genere calcola la media dei profitti dei film che lo contengono"
   ]
  },
  {
   "cell_type": "code",
   "execution_count": 151,
   "metadata": {},
   "outputs": [],
   "source": [
    "def genre_average_profits(genre):\n",
    "    sum = 0\n",
    "    count = 0\n",
    "    for row in Movies.index:\n",
    "        if (genre in Movies.loc[row, 'genres']) and (Movies.loc[row,'profit_perc'] > 0):\n",
    "            sum += Movies.loc[row, 'profit_perc']\n",
    "            count+=1\n",
    "    return count\n"
   ]
  },
  {
   "attachments": {},
   "cell_type": "markdown",
   "metadata": {},
   "source": [
    "2. estraiamo dal dataset la lista dei generi presenti"
   ]
  },
  {
   "cell_type": "code",
   "execution_count": 152,
   "metadata": {},
   "outputs": [
    {
     "name": "stdout",
     "output_type": "stream",
     "text": [
      "I generi presenti nel dataframe sono:\n",
      "\t Action\n",
      "\t Adventure\n",
      "\t Fantasy\n",
      "\t Science Fiction\n",
      "\t Crime\n",
      "\t Drama\n",
      "\t Thriller\n",
      "\t Animation\n",
      "\t Family\n",
      "\t Western\n",
      "\t Comedy\n",
      "\t Romance\n",
      "\t Horror\n",
      "\t Mystery\n",
      "\t History\n",
      "\t War\n",
      "\t Music\n",
      "\t Documentary\n",
      "\t Foreign\n",
      "\t TV Movie\n"
     ]
    }
   ],
   "source": [
    "genres=[]\n",
    "for row in Movies.index:\n",
    "    _gen = Movies.loc[row,'genres']\n",
    "    for g in _gen:\n",
    "        if g not in genres:\n",
    "            genres.append(g)\n",
    "\n",
    "print(\"I generi presenti nel dataframe sono:\")\n",
    "for el in genres:\n",
    "    print('\\t',el)"
   ]
  },
  {
   "attachments": {},
   "cell_type": "markdown",
   "metadata": {},
   "source": [
    "3. calcoliamo e salviamo il profitto medio di ogni genere"
   ]
  },
  {
   "cell_type": "code",
   "execution_count": 153,
   "metadata": {},
   "outputs": [
    {
     "name": "stdout",
     "output_type": "stream",
     "text": [
      "Profitto associato ad ogni genere:\n",
      "\t Action  has a mean profit of  693\n",
      "\t Adventure  has a mean profit of  524\n",
      "\t Fantasy  has a mean profit of  274\n",
      "\t Science Fiction  has a mean profit of  329\n",
      "\t Crime  has a mean profit of  387\n",
      "\t Drama  has a mean profit of  1013\n",
      "\t Thriller  has a mean profit of  694\n",
      "\t Animation  has a mean profit of  150\n",
      "\t Family  has a mean profit of  297\n",
      "\t Western  has a mean profit of  40\n",
      "\t Comedy  has a mean profit of  843\n",
      "\t Romance  has a mean profit of  434\n",
      "\t Horror  has a mean profit of  270\n",
      "\t Mystery  has a mean profit of  191\n",
      "\t History  has a mean profit of  102\n",
      "\t War  has a mean profit of  85\n",
      "\t Music  has a mean profit of  84\n",
      "\t Documentary  has a mean profit of  26\n",
      "\t Foreign  has a mean profit of  0\n",
      "\t TV Movie  has a mean profit of  0\n"
     ]
    }
   ],
   "source": [
    "profits=[]\n",
    "for g in genres:\n",
    "    profits.append(genre_average_profits(g))\n",
    "            \n",
    "print(\"Profitto associato ad ogni genere:\")\n",
    "for i in range(0,len(genres)):\n",
    "    print('\\t',genres[i], \" has a mean profit of \", profits[i])"
   ]
  },
  {
   "attachments": {},
   "cell_type": "markdown",
   "metadata": {},
   "source": [
    "Due generi hanno una media pari a 0, appaiano quindi solo nei film per cui non abbiamo info su budget e/o revenue, li eliminiamo quindi dalla lista dei generi"
   ]
  },
  {
   "cell_type": "code",
   "execution_count": 154,
   "metadata": {},
   "outputs": [],
   "source": [
    "genres.remove(genres[19])\n",
    "genres.remove(genres[18])\n",
    "profits.remove(profits[19])\n",
    "profits.remove(profits[18])"
   ]
  },
  {
   "attachments": {},
   "cell_type": "markdown",
   "metadata": {},
   "source": [
    "3. Di seguito possiamo vedere come sono i profitti in base ai diversi generi dei film"
   ]
  },
  {
   "cell_type": "code",
   "execution_count": 155,
   "metadata": {},
   "outputs": [
    {
     "data": {
      "image/png": "[encoded data removed]",
      "text/plain": [
       "<Figure size 1944x936 with 1 Axes>"
      ]
     },
     "metadata": {
      "needs_background": "light"
     },
     "output_type": "display_data"
    }
   ],
   "source": [
    "#TODO: riusciamo a farli in ordine decrescente sul grafico?\n",
    "fig, ax = plt.subplots()\n",
    "ax.bar(genres,profits)\n",
    "fig.set_figwidth(27)\n",
    "fig.set_figheight(13)\n",
    "plt.xticks(rotation=45,fontsize=15)\n",
    "plt.yticks(fontsize=15)\n",
    "plt.xlabel(\"Genres\", fontsize=20)\n",
    "plt.ylabel(\"Profits\", fontsize=20)\n",
    "plt.show()"
   ]
  },
  {
   "attachments": {},
   "cell_type": "markdown",
   "metadata": {},
   "source": [
    "Per ottimizzare le funzioni di libreria sostituiamo ai valori dei profitti associati ai film con dati insufficienti a calcolarli il valore nan"
   ]
  },
  {
   "cell_type": "code",
   "execution_count": 156,
   "metadata": {},
   "outputs": [],
   "source": [
    "#TODO: si può mica fare da subito?\n",
    "for row in Movies.index:\n",
    "    if (Movies.loc[row, 'profit_perc'] <= 0) and (Movies.loc[row, 'status']=='Released'):\n",
    "        Movies.loc[row, 'profit_perc'] = np.nan"
   ]
  },
  {
   "attachments": {},
   "cell_type": "markdown",
   "metadata": {},
   "source": [
    "### Secondo qualitativo: keywords ###"
   ]
  },
  {
   "attachments": {},
   "cell_type": "markdown",
   "metadata": {},
   "source": [
    "1. importiamo i profitti e le keywords associate solo a film su cui non abbiamo dati relativi ai profitti, precedentemente calcolate con una funzione pesante"
   ]
  },
  {
   "cell_type": "code",
   "execution_count": 157,
   "metadata": {},
   "outputs": [],
   "source": [
    "#key_profits = pd.read_csv('key_profits.csv')['0']\n",
    "#bad_key_df = pd.read_csv('bad_key.csv')\n",
    "#bad_key=bad_key_df['0']"
   ]
  },
  {
   "attachments": {},
   "cell_type": "markdown",
   "metadata": {},
   "source": [
    "2. estraiamo dal dataset la lista delle presenti"
   ]
  },
  {
   "cell_type": "code",
   "execution_count": 158,
   "metadata": {},
   "outputs": [
    {
     "name": "stdout",
     "output_type": "stream",
     "text": [
      "36194\n"
     ]
    }
   ],
   "source": [
    "keywords=[]\n",
    "for row in Movies.index:\n",
    "    _key = Movies.loc[row,'keywords']\n",
    "    for k in _key:\n",
    "        if g not in keywords:\n",
    "            keywords.append(k)\n",
    "print(len(keywords))"
   ]
  },
  {
   "attachments": {},
   "cell_type": "markdown",
   "metadata": {},
   "source": [
    "3. definiamo una funzione che data una keyword ne calcola la media dei profitti associati"
   ]
  },
  {
   "cell_type": "code",
   "execution_count": 167,
   "metadata": {},
   "outputs": [],
   "source": [
    "def keyword_average_profit(keywords):\n",
    "    sum = 0\n",
    "    count = 0\n",
    "    for row in Movies.index:\n",
    "        if (keywords in Movies.loc[row, 'keywords'] and Movies.loc[row, 'profit_perc'] >= 0):\n",
    "            sum += Movies.loc[row, 'profit_perc']\n",
    "            count+=1\n",
    "    if count != 0:\n",
    "        return sum/count\n",
    "    else:\n",
    "        return -1"
   ]
  },
  {
   "attachments": {},
   "cell_type": "markdown",
   "metadata": {},
   "source": [
    "4. ora per ogni keyword calcoliamo il profitto e salviamo quali keywords non hanno dati su budget o revenue"
   ]
  },
  {
   "cell_type": "code",
   "execution_count": 168,
   "metadata": {},
   "outputs": [],
   "source": [
    "#funzione pesantissima con hash\n",
    "set_key = set(keywords)\n",
    "key_profits={} #declared as hashmap\n",
    "bad_keys=[]\n",
    "for k in set_key:\n",
    "    q = keyword_average_profit(k)\n",
    "    if q != -1:\n",
    "        key_profits[str(k)]=q\n",
    "    else:\n",
    "        bad_keys.append(k)"
   ]
  },
  {
   "attachments": {},
   "cell_type": "markdown",
   "metadata": {},
   "source": [
    "5. A questo punto castiamo l'array di tutte le keywords e di quelle da scartare in set, così da eleminare ogni duplicato e poter effettuare una differenza:"
   ]
  },
  {
   "cell_type": "code",
   "execution_count": 170,
   "metadata": {},
   "outputs": [
    {
     "name": "stdout",
     "output_type": "stream",
     "text": [
      "Numero di keywords:\t 9813\n",
      "Numero di keywords da scartare\t 2166\n",
      "Numero di keywords da analizzare:\t 7647\n",
      "Numero di profitti per le keywords calcolati\t 7647\n"
     ]
    }
   ],
   "source": [
    "bad_key_set = set(bad_keys)\n",
    "set_key_cleaned = set_key - bad_key_set\n",
    "\n",
    "print(\"Numero di keywords:\\t\",len(set_key))\n",
    "print(\"Numero di keywords da scartare\\t\",len(bad_key_set))\n",
    "print(\"Numero di keywords da analizzare:\\t\",len(set_key_cleaned))\n",
    "print(\"Numero di profitti per le keywords calcolati\\t\",len(key_profits))\n",
    "\n",
    "#pd.DataFrame(key_profits).to_csv(\"key_profits.csv\")"
   ]
  },
  {
   "cell_type": "code",
   "execution_count": null,
   "metadata": {},
   "outputs": [],
   "source": [
    "sorted_key_hash = sorted(key_profits.items(), key=lambda x: x[1])\n",
    "print(sorted_key_hash)"
   ]
  },
  {
   "attachments": {},
   "cell_type": "markdown",
   "metadata": {},
   "source": [
    "6. visto il grande numero di keywords presenti nel dataset ci concentriamo su quelle più presenti"
   ]
  },
  {
   "cell_type": "code",
   "execution_count": null,
   "metadata": {},
   "outputs": [],
   "source": [
    "from collections import Counter #per prendere le più presenti\n",
    "\n",
    "best = 100 #numero di keywords da studiare \n",
    "_most_common_keys = Counter(keywords).most_common(best)\n",
    "most_common_keys = []\n",
    "for i in range(0,best-1):\n",
    "    #print(most_common_keys[0])\n",
    "    most_common_keys.append(_most_common_keys[i][0])\n",
    "print(most_common_keys)\n"
   ]
  },
  {
   "cell_type": "code",
   "execution_count": 177,
   "metadata": {},
   "outputs": [],
   "source": [
    "#associamo alle key più frequenti selezionate sopra il rispettivo profitto\n",
    "most_common_keys_prof = []\n",
    "for el in most_common_keys:\n",
    "    most_common_keys_prof.append(key_profits[str(el)])"
   ]
  },
  {
   "attachments": {},
   "cell_type": "markdown",
   "metadata": {},
   "source": [
    "7. stampiamo ora un istogramma che associa alle keywords più comuni il rispettivo profitto"
   ]
  },
  {
   "cell_type": "code",
   "execution_count": 178,
   "metadata": {},
   "outputs": [
    {
     "data": {
      "image/png": "[encoded data removed]",
      "text/plain": [
       "<Figure size 1944x936 with 1 Axes>"
      ]
     },
     "metadata": {
      "needs_background": "light"
     },
     "output_type": "display_data"
    }
   ],
   "source": [
    "fig, ax = plt.subplots()\n",
    "ax.bar(most_common_keys,most_common_keys_prof)\n",
    "fig.set_figwidth(27)\n",
    "fig.set_figheight(13)\n",
    "plt.xticks(rotation=90,fontsize=15)\n",
    "plt.yticks(fontsize=15)\n",
    "plt.xlabel(\"key\", fontsize=20)\n",
    "plt.ylabel(\"Profits\", fontsize=20)\n",
    "plt.show()"
   ]
  },
  {
   "attachments": {},
   "cell_type": "markdown",
   "metadata": {},
   "source": [
    "visto che il grafico così è poco leggibile rappresentiamo i risutlati in un altro modo"
   ]
  },
  {
   "cell_type": "code",
   "execution_count": null,
   "metadata": {},
   "outputs": [],
   "source": [
    "from wordcloud import WordCloud, STOPWORDS\n",
    "import nltk\n",
    "from nltk.corpus import stopwords\n",
    "from nltk.tokenize import word_tokenize\n",
    "\n",
    "\n",
    "plt.subplots(figsize=(12,12))\n",
    "stop_words=set(stopwords.words('english'))\n",
    "stop_words.update(',',';','!','?','.','(',')','$','#','+',':','...',' ','')\n",
    "\n",
    "Movies['keywords'].dropna(inplace=True)\n",
    "Movies['keywords'] = Movies['keywords'].astype(str)\n",
    "words=Movies['keywords'].apply(nltk.word_tokenize)\n",
    "word=[]\n",
    "for i in words:\n",
    "    word.extend(i)\n",
    "word=pd.Series(word)\n",
    "word=([i for i in word.str.lower() if i not in stop_words])\n",
    "wc = WordCloud(background_color=\"black\", max_words=4000,stopwords=STOPWORDS, max_font_size= 60,width=1000,height=1000)\n",
    "wc.generate(\" \".join(word))\n",
    "plt.imshow(wc)\n",
    "plt.axis('off')\n",
    "fig=plt.gcf()\n",
    "fig.set_size_inches(10,10)\n",
    "plt.show()"
   ]
  },
  {
   "attachments": {},
   "cell_type": "markdown",
   "metadata": {},
   "source": [
    "si può fare altro, ma ora ci spostiamo su altro..."
   ]
  },
  {
   "attachments": {},
   "cell_type": "markdown",
   "metadata": {},
   "source": [
    "### qualitiativo 3: paesi di produzione ###"
   ]
  },
  {
   "attachments": {},
   "cell_type": "markdown",
   "metadata": {},
   "source": [
    "1. Troviamo e salviamo tutti i paesi di produzione del dataframe"
   ]
  },
  {
   "cell_type": "code",
   "execution_count": 186,
   "metadata": {},
   "outputs": [
    {
     "name": "stdout",
     "output_type": "stream",
     "text": [
      "88\n",
      "['US', 'GB', 'JM', 'BS', 'DM', 'CZ', 'PL', 'SI', 'NZ', 'DE', 'CN', 'CA', 'IT', 'JP', 'MT', 'AU', 'FR', 'BE', 'IN', 'NL', 'ES', 'AE', 'HK', 'TW', 'IE', 'MA', 'HU', 'SG', 'NO', 'SE', 'ZA', 'RU', 'RO', 'MX', 'MC', 'CH', 'PK', 'MY', 'FI', 'IS', 'DK', 'TN', 'PH', 'BG', 'KR', 'BR', 'PE', 'LU', 'BA', 'KZ', 'PT', 'AW', 'LY', 'RS', 'UA', 'CL', 'AR', 'PA', 'AT', 'GR', 'LT', 'KH', 'TH', 'SK', 'IL', 'FJ', 'CS', 'TR', 'NG', 'CY', 'JO', 'BO', 'EC', 'CO', 'EG', 'BT', 'LB', 'KG', 'DZ', 'ID', 'GY', 'IR', 'GP', 'AF', 'AO', 'DO', 'CM', 'KE']\n"
     ]
    }
   ],
   "source": [
    "countries=[]\n",
    "for row in Movies.index:\n",
    "    _countries = Movies.loc[row,'production_countries']\n",
    "    for k in _countries:\n",
    "        if k not in countries:\n",
    "            countries.append(k)\n",
    "\n",
    "print(len(countries))\n",
    "print(countries)"
   ]
  },
  {
   "attachments": {},
   "cell_type": "markdown",
   "metadata": {},
   "source": [
    "2. definiamo una funzione che dato un pease di produzine calcoli il profitto dei film girati li"
   ]
  },
  {
   "cell_type": "code",
   "execution_count": 187,
   "metadata": {},
   "outputs": [],
   "source": [
    "def country_average_profit(country):\n",
    "    sum = 0\n",
    "    count = 0\n",
    "    for row in Movies.index:\n",
    "        if (country in Movies.loc[row, 'production_countries'] and Movies.loc[row, 'profit_perc'] >= 0):\n",
    "            sum += Movies.loc[row, 'profit_perc']\n",
    "            count+=1\n",
    "    if count != 0:\n",
    "        return sum/count\n",
    "    else:\n",
    "        return -1"
   ]
  },
  {
   "attachments": {},
   "cell_type": "markdown",
   "metadata": {},
   "source": [
    "3. creiamo una hashmap in cui associamo ad ogni paese di produzione il relativo profitto, mettendo in bad_countries i paesi i cui film non hanno info sufficienti per il calcolo dei profitti"
   ]
  },
  {
   "cell_type": "code",
   "execution_count": 188,
   "metadata": {},
   "outputs": [],
   "source": [
    "country_profits={} #declared as hashmap\n",
    "bad_countries=[] #TODO: si può fare subito set o serve array?\n",
    "for c in countries:\n",
    "    q = country_average_profit(c)\n",
    "    if q != -1:\n",
    "        country_profits[str(c)]=q\n",
    "    else:\n",
    "        bad_countries.append(c)"
   ]
  },
  {
   "attachments": {},
   "cell_type": "markdown",
   "metadata": {},
   "source": [
    "4. rimuoviamo i paesi di produzione dei cui film non abbiamo info"
   ]
  },
  {
   "cell_type": "code",
   "execution_count": 191,
   "metadata": {},
   "outputs": [
    {
     "name": "stdout",
     "output_type": "stream",
     "text": [
      "Numero di paesi di produzione totali:\t\t 88\n",
      "Numero di paesi di produzione da scartare:\t 32\n",
      "Numero di paesi di produzione da analizzare:\t 56\n",
      "Numero di profit per paese da analizzare:\t 56\n"
     ]
    }
   ],
   "source": [
    "set_countries = set(countries)\n",
    "bad_countries_set = set(bad_countries)\n",
    "set_countries_cleaned = set_countries - bad_countries_set\n",
    "\n",
    "\n",
    "print(\"Numero di paesi di produzione totali:\\t\\t\",len(set_countries))\n",
    "print(\"Numero di paesi di produzione da scartare:\\t\",len(bad_countries_set))\n",
    "print(\"Numero di paesi di produzione da analizzare:\\t\",len(set_countries_cleaned))\n",
    "print(\"Numero di profit per paese da analizzare:\\t\",len(country_profits))\n"
   ]
  },
  {
   "attachments": {},
   "cell_type": "markdown",
   "metadata": {},
   "source": [
    "5. mettiamo in un array, nel giusto ordine, i profitti da plottare"
   ]
  },
  {
   "cell_type": "code",
   "execution_count": 194,
   "metadata": {},
   "outputs": [],
   "source": [
    "country_profits_plot = []\n",
    "for el in set_countries_cleaned:\n",
    "    country_profits_plot.append(country_profits[str(el)])"
   ]
  },
  {
   "cell_type": "code",
   "execution_count": 195,
   "metadata": {},
   "outputs": [
    {
     "data": {
      "image/png": "[encoded data removed]",
      "text/plain": [
       "<Figure size 1440x936 with 1 Axes>"
      ]
     },
     "metadata": {
      "needs_background": "light"
     },
     "output_type": "display_data"
    }
   ],
   "source": [
    "fig, ax = plt.subplots()\n",
    "ax.bar(list(set_countries_cleaned),list(country_profits_plot))\n",
    "fig.set_figwidth(20)\n",
    "fig.set_figheight(13)\n",
    "plt.xticks(rotation=90,fontsize=15)\n",
    "plt.yticks(fontsize=15)\n",
    "plt.xlabel(\"key\", fontsize=20)\n",
    "plt.ylabel(\"Profits\", fontsize=20)\n",
    "plt.show()"
   ]
  },
  {
   "attachments": {},
   "cell_type": "markdown",
   "metadata": {},
   "source": [
    "6. Notiamo un valore molto alto per la Jamaica, ci stupisce. Controlliamo quanti e quali film ci sono"
   ]
  },
  {
   "cell_type": "code",
   "execution_count": 196,
   "metadata": {},
   "outputs": [
    {
     "name": "stdout",
     "output_type": "stream",
     "text": [
      "432.829906\n",
      "6173.684210526316\n"
     ]
    }
   ],
   "source": [
    "for row in Movies.index:\n",
    "    if 'JM' in Movies.loc[row,'production_countries']:\n",
    "        print(Movies.loc[row,'profit_perc'])"
   ]
  },
  {
   "attachments": {},
   "cell_type": "markdown",
   "metadata": {},
   "source": [
    "solo due, dobbiamo fare lo stesso lavoro fatto per le keywords sulla frequenza"
   ]
  },
  {
   "cell_type": "code",
   "execution_count": 197,
   "metadata": {},
   "outputs": [],
   "source": [
    "#TODO: fare country con frequenza"
   ]
  },
  {
   "attachments": {},
   "cell_type": "markdown",
   "metadata": {},
   "source": [
    "******************************************************************************************************************************************\n",
    "******************************************************************************************************************************************"
   ]
  },
  {
   "attachments": {},
   "cell_type": "markdown",
   "metadata": {},
   "source": [
    "## Logaritmi, decidere dove va fatto!!##"
   ]
  },
  {
   "attachments": {},
   "cell_type": "markdown",
   "metadata": {},
   "source": [
    "purtroppo la distrubuzione dei profitti è pessima e potrebbe portare a delle rpoblematiche future, per migliorarla possiamo applicare la funzione logaritmica"
   ]
  },
  {
   "cell_type": "code",
   "execution_count": null,
   "metadata": {},
   "outputs": [
    {
     "data": {
      "image/png": "[encoded data removed]",
      "text/plain": [
       "<Figure size 1152x432 with 2 Axes>"
      ]
     },
     "metadata": {
      "needs_background": "light"
     },
     "output_type": "display_data"
    }
   ],
   "source": [
    "#TODO: separare in due fasi, prima stampiamo la distribuzione, poi diciamo che fa cagare e dopo applichiamo log e diciamo che va meglio\n",
    "Movies['log_perc'] = np.log(Movies['profit_perc'])\n",
    "fig, ax = plt.subplots(figsize = (16, 6))\n",
    "plt.subplot(1,2,1)\n",
    "plt.hist(Movies['profit_perc'])\n",
    "plt.title('Distribution of Profits%')\n",
    "plt.subplot(1,2,2)\n",
    "plt.hist(Movies['log_perc'])\n",
    "plt.title('Log Distribution of Profits%')\n",
    "plt.show()\n",
    "\n"
   ]
  },
  {
   "attachments": {},
   "cell_type": "markdown",
   "metadata": {},
   "source": [
    "Il grafico sembra dire che il log ha funzionato, controliamo la skewness"
   ]
  },
  {
   "cell_type": "code",
   "execution_count": null,
   "metadata": {},
   "outputs": [
    {
     "name": "stdout",
     "output_type": "stream",
     "text": [
      "Skewness : 43.271624 \n",
      "Applied Log Skewness : -0.229524 \n"
     ]
    }
   ],
   "source": [
    "print('Skewness : %f '% Movies['profit_perc'].skew())\n",
    "print('Applied Log Skewness : %f '% Movies['log_perc'].skew())\n"
   ]
  },
  {
   "attachments": {},
   "cell_type": "markdown",
   "metadata": {},
   "source": [
    "i risutlati confermano quanto suggerito dal grafico, analizziamo ancora come la distribuzione sia cambiata e quanto effettivamente sia migliorata"
   ]
  },
  {
   "cell_type": "code",
   "execution_count": null,
   "metadata": {},
   "outputs": [
    {
     "data": {
      "image/png": "[encoded data removed]",
      "text/plain": [
       "<Figure size 432x288 with 1 Axes>"
      ]
     },
     "metadata": {
      "needs_background": "light"
     },
     "output_type": "display_data"
    },
    {
     "data": {
      "image/png": "[encoded data removed]",
      "text/plain": [
       "<Figure size 1152x432 with 1 Axes>"
      ]
     },
     "metadata": {
      "needs_background": "light"
     },
     "output_type": "display_data"
    }
   ],
   "source": [
    "sns.distplot(Movies['profit_perc'])\n",
    "plt.figure(figsize=(16,6))\n",
    "plt.legend(['Profit'])\n",
    "plt.title('Profit Perc')\n",
    "sns.distplot(Movies['log_perc'])\n",
    "plt.legend(['Profit'])\n",
    "plt.title('Log Profit Perc')\n",
    "plt.show()"
   ]
  },
  {
   "attachments": {},
   "cell_type": "markdown",
   "metadata": {},
   "source": [
    "miglioratissima....ossia studiamo bene cosa vogliono dire sti grafici"
   ]
  },
  {
   "attachments": {},
   "cell_type": "markdown",
   "metadata": {},
   "source": [
    "******************************************************************************************************************************************\n",
    "******************************************************************************************************************************************"
   ]
  },
  {
   "attachments": {},
   "cell_type": "markdown",
   "metadata": {},
   "source": [
    "## Dataset unito a crew ##"
   ]
  },
  {
   "attachments": {},
   "cell_type": "markdown",
   "metadata": {},
   "source": [
    "**Iniziamo a lavorare con il dataset contenente il cast e il direttore**"
   ]
  },
  {
   "cell_type": "code",
   "execution_count": null,
   "metadata": {},
   "outputs": [],
   "source": [
    "cast = pd.read_csv(\"tmdb_5000_credits.csv\")"
   ]
  },
  {
   "cell_type": "code",
   "execution_count": null,
   "metadata": {},
   "outputs": [],
   "source": [
    "cast['cast']=cast['cast'].apply(json.loads)\n",
    "for index,i in zip(cast.index,cast['cast']):\n",
    "    list1=[]\n",
    "    for j in range(len(i)):\n",
    "        list1.append((i[j]['name']))\n",
    "    cast.loc[index,'cast']=str(list1)\n",
    "\n",
    "# changing the crew column from json to string    \n",
    "cast['crew']=cast['crew'].apply(json.loads)\n",
    "def director(x):\n",
    "    for i in x:\n",
    "        if i['job'] == 'Director':\n",
    "            return i['name']\n",
    "cast['crew']=cast['crew'].apply(director)\n",
    "cast.rename(columns={'crew':'director'},inplace=True)\n",
    "cast.rename(columns={\"movie_id\":\"id\"},inplace=True)\n",
    "cast.drop('title',inplace=True,axis=1)"
   ]
  },
  {
   "cell_type": "code",
   "execution_count": null,
   "metadata": {},
   "outputs": [],
   "source": [
    "Movies=pd.merge(Movies,cast,on=\"id\",how='inner')# merging the two csv \n"
   ]
  },
  {
   "cell_type": "code",
   "execution_count": null,
   "metadata": {},
   "outputs": [],
   "source": [
    "Movies['cast']=Movies['cast'].str.strip('[]').str.replace(' ','').str.replace(\"'\",'').str.replace('\"','')\n",
    "Movies['cast']=Movies['cast'].str.split(',')"
   ]
  },
  {
   "attachments": {},
   "cell_type": "markdown",
   "metadata": {},
   "source": [
    "Let's see how many times actors appears in different films"
   ]
  },
  {
   "cell_type": "code",
   "execution_count": null,
   "metadata": {},
   "outputs": [
    {
     "data": {
      "image/png": "[encoded data removed]",
      "text/plain": [
       "<Figure size 1200x1000 with 1 Axes>"
      ]
     },
     "metadata": {},
     "output_type": "display_data"
    }
   ],
   "source": [
    "\n",
    "list1=[]\n",
    "\n",
    "for i in Movies['cast']:\n",
    "    list1.extend(i)\n",
    "\n",
    "list1 = list(filter(None, list1))\n",
    "\n",
    "plt.subplots(figsize=(12,10))\n",
    "ax=pd.Series(list1).value_counts()[:15].sort_values(ascending=True).plot.barh(width=0.9,color=sns.color_palette('inferno_r',40))\n",
    "for i, v in enumerate(pd.Series(list1).value_counts()[:15].sort_values(ascending=True).values): \n",
    "    ax.text(.8, i, v,fontsize=10,color='white',weight='bold')\n",
    "\n",
    "plt.title('Actors with highest appearance')\n",
    "ax.patches[14].set_facecolor('r')\n",
    "plt.show()\n"
   ]
  },
  {
   "cell_type": "code",
   "execution_count": null,
   "metadata": {},
   "outputs": [],
   "source": [
    "def xstr(s):\n",
    "    if s is None:\n",
    "        return ''\n",
    "    return str(s)\n",
    "Movies['director']=Movies['director'].apply(xstr)"
   ]
  },
  {
   "cell_type": "code",
   "execution_count": null,
   "metadata": {},
   "outputs": [
    {
     "data": {
      "image/png": "[encoded data removed]",
      "text/plain": [
       "<Figure size 1200x1000 with 1 Axes>"
      ]
     },
     "metadata": {},
     "output_type": "display_data"
    }
   ],
   "source": [
    "plt.subplots(figsize=(12,10))\n",
    "ax=Movies[Movies['director']!=''].director.value_counts()[:10].sort_values(ascending=True).plot.barh(width=0.85,color=sns.color_palette('inferno_r',40))\n",
    "for i, v in enumerate(Movies[Movies['director']!=''].director.value_counts()[:10].sort_values(ascending=True).values): \n",
    "    ax.text(.5, i, v,fontsize=12,color='white',weight='bold')\n",
    "ax.patches[9].set_facecolor('r')\n",
    "plt.title('Directors with highest movies')\n",
    "plt.show()\n"
   ]
  },
  {
   "attachments": {},
   "cell_type": "markdown",
   "metadata": {},
   "source": [
    "******************************************************************************************************************************************\n",
    "******************************************************************************************************************************************"
   ]
  },
  {
   "attachments": {},
   "cell_type": "markdown",
   "metadata": {},
   "source": [
    "## Dati quantitativi ##"
   ]
  },
  {
   "cell_type": "code",
   "execution_count": null,
   "metadata": {},
   "outputs": [
    {
     "data": {
      "text/html": [
       "<div>\n",
       "<style scoped>\n",
       "    .dataframe tbody tr th:only-of-type {\n",
       "        vertical-align: middle;\n",
       "    }\n",
       "\n",
       "    .dataframe tbody tr th {\n",
       "        vertical-align: top;\n",
       "    }\n",
       "\n",
       "    .dataframe thead th {\n",
       "        text-align: right;\n",
       "    }\n",
       "</style>\n",
       "<table border=\"1\" class=\"dataframe\">\n",
       "  <thead>\n",
       "    <tr style=\"text-align: right;\">\n",
       "      <th></th>\n",
       "      <th>budget</th>\n",
       "      <th>id</th>\n",
       "      <th>popularity</th>\n",
       "      <th>revenue</th>\n",
       "      <th>runtime</th>\n",
       "      <th>vote_average</th>\n",
       "      <th>vote_count</th>\n",
       "      <th>profit_perc</th>\n",
       "      <th>log_perc</th>\n",
       "    </tr>\n",
       "  </thead>\n",
       "  <tbody>\n",
       "    <tr>\n",
       "      <th>budget</th>\n",
       "      <td>1.000000</td>\n",
       "      <td>-0.039667</td>\n",
       "      <td>0.453187</td>\n",
       "      <td>0.708941</td>\n",
       "      <td>0.252951</td>\n",
       "      <td>0.012994</td>\n",
       "      <td>0.554305</td>\n",
       "      <td>-0.036107</td>\n",
       "      <td>-0.184844</td>\n",
       "    </tr>\n",
       "    <tr>\n",
       "      <th>id</th>\n",
       "      <td>-0.039667</td>\n",
       "      <td>1.000000</td>\n",
       "      <td>0.031202</td>\n",
       "      <td>-0.050425</td>\n",
       "      <td>-0.153536</td>\n",
       "      <td>-0.270595</td>\n",
       "      <td>-0.004128</td>\n",
       "      <td>-0.010734</td>\n",
       "      <td>0.002664</td>\n",
       "    </tr>\n",
       "    <tr>\n",
       "      <th>popularity</th>\n",
       "      <td>0.453187</td>\n",
       "      <td>0.031202</td>\n",
       "      <td>1.000000</td>\n",
       "      <td>0.644724</td>\n",
       "      <td>0.225502</td>\n",
       "      <td>0.273952</td>\n",
       "      <td>0.778130</td>\n",
       "      <td>0.007432</td>\n",
       "      <td>0.153279</td>\n",
       "    </tr>\n",
       "    <tr>\n",
       "      <th>revenue</th>\n",
       "      <td>0.708941</td>\n",
       "      <td>-0.050425</td>\n",
       "      <td>0.644724</td>\n",
       "      <td>1.000000</td>\n",
       "      <td>0.251093</td>\n",
       "      <td>0.197150</td>\n",
       "      <td>0.781487</td>\n",
       "      <td>0.006032</td>\n",
       "      <td>0.236231</td>\n",
       "    </tr>\n",
       "    <tr>\n",
       "      <th>runtime</th>\n",
       "      <td>0.252951</td>\n",
       "      <td>-0.153536</td>\n",
       "      <td>0.225502</td>\n",
       "      <td>0.251093</td>\n",
       "      <td>1.000000</td>\n",
       "      <td>0.375046</td>\n",
       "      <td>0.271944</td>\n",
       "      <td>-0.039747</td>\n",
       "      <td>0.004423</td>\n",
       "    </tr>\n",
       "    <tr>\n",
       "      <th>vote_average</th>\n",
       "      <td>0.012994</td>\n",
       "      <td>-0.270595</td>\n",
       "      <td>0.273952</td>\n",
       "      <td>0.197150</td>\n",
       "      <td>0.375046</td>\n",
       "      <td>1.000000</td>\n",
       "      <td>0.312997</td>\n",
       "      <td>-0.007350</td>\n",
       "      <td>0.253176</td>\n",
       "    </tr>\n",
       "    <tr>\n",
       "      <th>vote_count</th>\n",
       "      <td>0.554305</td>\n",
       "      <td>-0.004128</td>\n",
       "      <td>0.778130</td>\n",
       "      <td>0.781487</td>\n",
       "      <td>0.271944</td>\n",
       "      <td>0.312997</td>\n",
       "      <td>1.000000</td>\n",
       "      <td>0.000105</td>\n",
       "      <td>0.193312</td>\n",
       "    </tr>\n",
       "    <tr>\n",
       "      <th>profit_perc</th>\n",
       "      <td>-0.036107</td>\n",
       "      <td>-0.010734</td>\n",
       "      <td>0.007432</td>\n",
       "      <td>0.006032</td>\n",
       "      <td>-0.039747</td>\n",
       "      <td>-0.007350</td>\n",
       "      <td>0.000105</td>\n",
       "      <td>1.000000</td>\n",
       "      <td>0.191870</td>\n",
       "    </tr>\n",
       "    <tr>\n",
       "      <th>log_perc</th>\n",
       "      <td>-0.184844</td>\n",
       "      <td>0.002664</td>\n",
       "      <td>0.153279</td>\n",
       "      <td>0.236231</td>\n",
       "      <td>0.004423</td>\n",
       "      <td>0.253176</td>\n",
       "      <td>0.193312</td>\n",
       "      <td>0.191870</td>\n",
       "      <td>1.000000</td>\n",
       "    </tr>\n",
       "  </tbody>\n",
       "</table>\n",
       "</div>"
      ],
      "text/plain": [
       "                budget        id  popularity   revenue   runtime  \\\n",
       "budget        1.000000 -0.039667    0.453187  0.708941  0.252951   \n",
       "id           -0.039667  1.000000    0.031202 -0.050425 -0.153536   \n",
       "popularity    0.453187  0.031202    1.000000  0.644724  0.225502   \n",
       "revenue       0.708941 -0.050425    0.644724  1.000000  0.251093   \n",
       "runtime       0.252951 -0.153536    0.225502  0.251093  1.000000   \n",
       "vote_average  0.012994 -0.270595    0.273952  0.197150  0.375046   \n",
       "vote_count    0.554305 -0.004128    0.778130  0.781487  0.271944   \n",
       "profit_perc  -0.036107 -0.010734    0.007432  0.006032 -0.039747   \n",
       "log_perc     -0.184844  0.002664    0.153279  0.236231  0.004423   \n",
       "\n",
       "              vote_average  vote_count  profit_perc  log_perc  \n",
       "budget            0.012994    0.554305    -0.036107 -0.184844  \n",
       "id               -0.270595   -0.004128    -0.010734  0.002664  \n",
       "popularity        0.273952    0.778130     0.007432  0.153279  \n",
       "revenue           0.197150    0.781487     0.006032  0.236231  \n",
       "runtime           0.375046    0.271944    -0.039747  0.004423  \n",
       "vote_average      1.000000    0.312997    -0.007350  0.253176  \n",
       "vote_count        0.312997    1.000000     0.000105  0.193312  \n",
       "profit_perc      -0.007350    0.000105     1.000000  0.191870  \n",
       "log_perc          0.253176    0.193312     0.191870  1.000000  "
      ]
     },
     "execution_count": 955,
     "metadata": {},
     "output_type": "execute_result"
    }
   ],
   "source": [
    "Movies.corr()"
   ]
  },
  {
   "cell_type": "code",
   "execution_count": null,
   "metadata": {},
   "outputs": [],
   "source": [
    "\"\"\" popo=pd.DataFrame(key_profits)\n",
    "popo.to_csv('key_prof_hashmap.csv')\n",
    "\n",
    "print(len(key_profits)) \"\"\""
   ]
  },
  {
   "cell_type": "code",
   "execution_count": null,
   "metadata": {},
   "outputs": [],
   "source": [
    "from wordcloud import WordCloud,STOPWORDS\n",
    "\n",
    "plt.figure(figsize = (12, 12))\n",
    "token_keywords = ' '.join(Movies['title'].values) \n",
    "wordcloud = WordCloud(max_font_size=None, background_color='white', width=1200, height=1000).generate(token_keywords)\n",
    "plt.imshow(wordcloud)\n",
    "plt.title('Top words from movie titles ')\n",
    "plt.axis(\"off\") # we dont need axes for this\n",
    "plt.show()"
   ]
  },
  {
   "cell_type": "code",
   "execution_count": null,
   "metadata": {},
   "outputs": [],
   "source": [
    "########### ISO\n",
    "#questa cambia la rappresentazione nel dataset, non ritorna una cippa\n",
    "#def get_ISO(x):\n",
    " #   if isinstance(x, list):\n",
    "  #      isos = [i['iso_3166_1'] for i in x]\n",
    "   #     return isos\n",
    "    #return []"
   ]
  },
  {
   "cell_type": "code",
   "execution_count": null,
   "metadata": {},
   "outputs": [],
   "source": [
    "Movies.head(1)\n",
    "print(Movies[Movies['title']=='Avatar'])"
   ]
  },
  {
   "attachments": {},
   "cell_type": "markdown",
   "metadata": {},
   "source": [
    "******************************************************************************************************************************************\n",
    "******************************************************************************************************************************************"
   ]
  },
  {
   "attachments": {},
   "cell_type": "markdown",
   "metadata": {},
   "source": [
    "#TOTO: \n",
    "\n",
    "Toccherà caccaire nel cesso le hashmap\n",
    "\n",
    "non è che tocca lavorare sui profitti ottenuti col logaritmo?\n",
    "\n",
    "trovare modo per selezionare solo le country utili (con abbastanza film)\n",
    "\n",
    "#mettere al posto dei -1 i NaN ma solo nella singola colonna non su tutta la riga\n",
    " \n",
    "Qualitativi --> plot e contare, no correlazioni\n",
    "\n",
    "sarebbe carino trovare sia le key con più profitto tra le più comuni sia le più comuni tra quelle con più profitto\n",
    "\n",
    "#Eliminare valori inutile e insensati anche per revenue e \"segnarli\"\n",
    "#Ricalcolare profit selezinando solo i film con valori sensati (!=-1)\n",
    "\n",
    "Plottare profitto in base a:\n",
    "    #genere\n",
    "    keyword\n",
    "    paese prod\n",
    "    lingua originale (forse)\n",
    "\n",
    "Plottare count dei generi in per ogni paese di prod (ad esempio giappone potrebbe avere più animazione della GB)\n",
    "\n",
    "\\************************************************\n",
    "\n",
    "Dati quantitativi --> matematica:\n",
    "\n",
    "Provare corr tra profitto(non revenue) e budget \n",
    "Provare corr tra profitto(non revenue) e score \n",
    "Provare corr tra profitto(non revenue) e popularity \n",
    "\n",
    ".\n",
    ".\n",
    ".\n",
    ".\n",
    "\n",
    "usiamo tutte le verità scoperte per fare varie predizioni\n"
   ]
  }
 ],
 "metadata": {
  "kernelspec": {
   "display_name": "Python 3",
   "language": "python",
   "name": "python3"
  },
  "language_info": {
   "codemirror_mode": {
    "name": "ipython",
    "version": 3
   },
   "file_extension": ".py",
   "mimetype": "text/x-python",
   "name": "python",
   "nbconvert_exporter": "python",
   "pygments_lexer": "ipython3",
   "version": "3.9.9"
  },
  "orig_nbformat": 4,
  "vscode": {
   "interpreter": {
    "hash": "aee8b7b246df8f9039afb4144a1f6fd8d2ca17a180786b69acc140d282b71a49"
   }
  }
 },
 "nbformat": 4,
 "nbformat_minor": 2
}
